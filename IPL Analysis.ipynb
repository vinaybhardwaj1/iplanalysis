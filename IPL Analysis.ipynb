{
 "cells": [
  {
   "cell_type": "code",
   "execution_count": 1,
   "metadata": {},
   "outputs": [],
   "source": [
    "import pandas as pd\n",
    "import numpy as np\n",
    "import matplotlib.pyplot as plt\n",
    "import seaborn as sns\n",
    "from matplotlib import cm\n",
    "import warnings\n",
    "from sklearn import preprocessing\n",
    "from sklearn.metrics import accuracy_score,confusion_matrix,make_scorer\n",
    "from sklearn.utils import resample\n",
    "from sklearn import datasets\n",
    "from sklearn.model_selection import train_test_split,cross_validate,cross_val_score\n",
    "from sklearn.neighbors import KNeighborsClassifier\n",
    "from sklearn.tree import DecisionTreeClassifier\n",
    "from sklearn.naive_bayes import GaussianNB\n",
    "from sklearn.linear_model import LogisticRegression\n",
    "from sklearn.preprocessing import OneHotEncoder,StandardScaler\n",
    "from sklearn.decomposition import PCA\n",
    "\n",
    "from sklearn.pipeline import Pipeline\n",
    "from sklearn.ensemble import RandomForestClassifier\n",
    "from sklearn.impute import SimpleImputer\n",
    "from sklearn.preprocessing import StandardScaler\n",
    "from sklearn.compose import ColumnTransformer\n",
    "from sklearn.metrics import f1_score\n",
    "import category_encoders as ce\n",
    "from sklearn.ensemble import BaggingClassifier,AdaBoostClassifier\n",
    "from pandas_profiling import ProfileReport\n",
    "\n",
    "from catboost import Pool,CatBoostClassifier\n",
    "\n",
    "%matplotlib inline\n",
    "\n",
    "warnings.filterwarnings('ignore')"
   ]
  },
  {
   "cell_type": "markdown",
   "metadata": {},
   "source": [
    "#### <span style=\"color:blue;font:Calibri\">Importing our datasets. df_matches contains match data and df_balls contains ball-by-ball data."
   ]
  },
  {
   "cell_type": "code",
   "execution_count": 2,
   "metadata": {
    "scrolled": true
   },
   "outputs": [
    {
     "data": {
      "text/html": [
       "<div>\n",
       "<style scoped>\n",
       "    .dataframe tbody tr th:only-of-type {\n",
       "        vertical-align: middle;\n",
       "    }\n",
       "\n",
       "    .dataframe tbody tr th {\n",
       "        vertical-align: top;\n",
       "    }\n",
       "\n",
       "    .dataframe thead th {\n",
       "        text-align: right;\n",
       "    }\n",
       "</style>\n",
       "<table border=\"1\" class=\"dataframe\">\n",
       "  <thead>\n",
       "    <tr style=\"text-align: right;\">\n",
       "      <th></th>\n",
       "      <th>id</th>\n",
       "      <th>season</th>\n",
       "      <th>city</th>\n",
       "      <th>date</th>\n",
       "      <th>team1</th>\n",
       "      <th>team2</th>\n",
       "      <th>toss_winner</th>\n",
       "      <th>toss_decision</th>\n",
       "      <th>result</th>\n",
       "      <th>dl_applied</th>\n",
       "      <th>winner</th>\n",
       "      <th>win_by_runs</th>\n",
       "      <th>win_by_wickets</th>\n",
       "      <th>player_of_match</th>\n",
       "      <th>venue</th>\n",
       "      <th>umpire1</th>\n",
       "      <th>umpire2</th>\n",
       "      <th>umpire3</th>\n",
       "    </tr>\n",
       "  </thead>\n",
       "  <tbody>\n",
       "    <tr>\n",
       "      <th>0</th>\n",
       "      <td>1</td>\n",
       "      <td>2017</td>\n",
       "      <td>Hyderabad</td>\n",
       "      <td>2017-04-05</td>\n",
       "      <td>Sunrisers Hyderabad</td>\n",
       "      <td>Royal Challengers Bangalore</td>\n",
       "      <td>Royal Challengers Bangalore</td>\n",
       "      <td>field</td>\n",
       "      <td>normal</td>\n",
       "      <td>0</td>\n",
       "      <td>Sunrisers Hyderabad</td>\n",
       "      <td>35</td>\n",
       "      <td>0</td>\n",
       "      <td>Yuvraj Singh</td>\n",
       "      <td>Rajiv Gandhi International Stadium, Uppal</td>\n",
       "      <td>AY Dandekar</td>\n",
       "      <td>NJ Llong</td>\n",
       "      <td>NaN</td>\n",
       "    </tr>\n",
       "    <tr>\n",
       "      <th>1</th>\n",
       "      <td>2</td>\n",
       "      <td>2017</td>\n",
       "      <td>Pune</td>\n",
       "      <td>2017-04-06</td>\n",
       "      <td>Mumbai Indians</td>\n",
       "      <td>Rising Pune Supergiant</td>\n",
       "      <td>Rising Pune Supergiant</td>\n",
       "      <td>field</td>\n",
       "      <td>normal</td>\n",
       "      <td>0</td>\n",
       "      <td>Rising Pune Supergiant</td>\n",
       "      <td>0</td>\n",
       "      <td>7</td>\n",
       "      <td>SPD Smith</td>\n",
       "      <td>Maharashtra Cricket Association Stadium</td>\n",
       "      <td>A Nand Kishore</td>\n",
       "      <td>S Ravi</td>\n",
       "      <td>NaN</td>\n",
       "    </tr>\n",
       "    <tr>\n",
       "      <th>2</th>\n",
       "      <td>3</td>\n",
       "      <td>2017</td>\n",
       "      <td>Rajkot</td>\n",
       "      <td>2017-04-07</td>\n",
       "      <td>Gujarat Lions</td>\n",
       "      <td>Kolkata Knight Riders</td>\n",
       "      <td>Kolkata Knight Riders</td>\n",
       "      <td>field</td>\n",
       "      <td>normal</td>\n",
       "      <td>0</td>\n",
       "      <td>Kolkata Knight Riders</td>\n",
       "      <td>0</td>\n",
       "      <td>10</td>\n",
       "      <td>CA Lynn</td>\n",
       "      <td>Saurashtra Cricket Association Stadium</td>\n",
       "      <td>Nitin Menon</td>\n",
       "      <td>CK Nandan</td>\n",
       "      <td>NaN</td>\n",
       "    </tr>\n",
       "    <tr>\n",
       "      <th>3</th>\n",
       "      <td>4</td>\n",
       "      <td>2017</td>\n",
       "      <td>Indore</td>\n",
       "      <td>2017-04-08</td>\n",
       "      <td>Rising Pune Supergiant</td>\n",
       "      <td>Kings XI Punjab</td>\n",
       "      <td>Kings XI Punjab</td>\n",
       "      <td>field</td>\n",
       "      <td>normal</td>\n",
       "      <td>0</td>\n",
       "      <td>Kings XI Punjab</td>\n",
       "      <td>0</td>\n",
       "      <td>6</td>\n",
       "      <td>GJ Maxwell</td>\n",
       "      <td>Holkar Cricket Stadium</td>\n",
       "      <td>AK Chaudhary</td>\n",
       "      <td>C Shamshuddin</td>\n",
       "      <td>NaN</td>\n",
       "    </tr>\n",
       "    <tr>\n",
       "      <th>4</th>\n",
       "      <td>5</td>\n",
       "      <td>2017</td>\n",
       "      <td>Bangalore</td>\n",
       "      <td>2017-04-08</td>\n",
       "      <td>Royal Challengers Bangalore</td>\n",
       "      <td>Delhi Daredevils</td>\n",
       "      <td>Royal Challengers Bangalore</td>\n",
       "      <td>bat</td>\n",
       "      <td>normal</td>\n",
       "      <td>0</td>\n",
       "      <td>Royal Challengers Bangalore</td>\n",
       "      <td>15</td>\n",
       "      <td>0</td>\n",
       "      <td>KM Jadhav</td>\n",
       "      <td>M Chinnaswamy Stadium</td>\n",
       "      <td>NaN</td>\n",
       "      <td>NaN</td>\n",
       "      <td>NaN</td>\n",
       "    </tr>\n",
       "  </tbody>\n",
       "</table>\n",
       "</div>"
      ],
      "text/plain": [
       "   id  season       city        date                        team1  \\\n",
       "0   1    2017  Hyderabad  2017-04-05          Sunrisers Hyderabad   \n",
       "1   2    2017       Pune  2017-04-06               Mumbai Indians   \n",
       "2   3    2017     Rajkot  2017-04-07                Gujarat Lions   \n",
       "3   4    2017     Indore  2017-04-08       Rising Pune Supergiant   \n",
       "4   5    2017  Bangalore  2017-04-08  Royal Challengers Bangalore   \n",
       "\n",
       "                         team2                  toss_winner toss_decision  \\\n",
       "0  Royal Challengers Bangalore  Royal Challengers Bangalore         field   \n",
       "1       Rising Pune Supergiant       Rising Pune Supergiant         field   \n",
       "2        Kolkata Knight Riders        Kolkata Knight Riders         field   \n",
       "3              Kings XI Punjab              Kings XI Punjab         field   \n",
       "4             Delhi Daredevils  Royal Challengers Bangalore           bat   \n",
       "\n",
       "   result  dl_applied                       winner  win_by_runs  \\\n",
       "0  normal           0          Sunrisers Hyderabad           35   \n",
       "1  normal           0       Rising Pune Supergiant            0   \n",
       "2  normal           0        Kolkata Knight Riders            0   \n",
       "3  normal           0              Kings XI Punjab            0   \n",
       "4  normal           0  Royal Challengers Bangalore           15   \n",
       "\n",
       "   win_by_wickets player_of_match                                      venue  \\\n",
       "0               0    Yuvraj Singh  Rajiv Gandhi International Stadium, Uppal   \n",
       "1               7       SPD Smith    Maharashtra Cricket Association Stadium   \n",
       "2              10         CA Lynn     Saurashtra Cricket Association Stadium   \n",
       "3               6      GJ Maxwell                     Holkar Cricket Stadium   \n",
       "4               0       KM Jadhav                      M Chinnaswamy Stadium   \n",
       "\n",
       "          umpire1        umpire2 umpire3  \n",
       "0     AY Dandekar       NJ Llong     NaN  \n",
       "1  A Nand Kishore         S Ravi     NaN  \n",
       "2     Nitin Menon      CK Nandan     NaN  \n",
       "3    AK Chaudhary  C Shamshuddin     NaN  \n",
       "4             NaN            NaN     NaN  "
      ]
     },
     "execution_count": 2,
     "metadata": {},
     "output_type": "execute_result"
    }
   ],
   "source": [
    "df_matches = pd.read_csv('matches.csv',header=0)\n",
    "df_matches.head()"
   ]
  },
  {
   "cell_type": "code",
   "execution_count": 3,
   "metadata": {
    "scrolled": true
   },
   "outputs": [
    {
     "data": {
      "text/plain": [
       "Index(['id', 'season', 'city', 'date', 'team1', 'team2', 'toss_winner',\n",
       "       'toss_decision', 'result', 'dl_applied', 'winner', 'win_by_runs',\n",
       "       'win_by_wickets', 'player_of_match', 'venue', 'umpire1', 'umpire2',\n",
       "       'umpire3'],\n",
       "      dtype='object')"
      ]
     },
     "execution_count": 3,
     "metadata": {},
     "output_type": "execute_result"
    }
   ],
   "source": [
    "df_matches.columns"
   ]
  },
  {
   "cell_type": "code",
   "execution_count": 4,
   "metadata": {
    "scrolled": false
   },
   "outputs": [
    {
     "data": {
      "text/html": [
       "<div>\n",
       "<style scoped>\n",
       "    .dataframe tbody tr th:only-of-type {\n",
       "        vertical-align: middle;\n",
       "    }\n",
       "\n",
       "    .dataframe tbody tr th {\n",
       "        vertical-align: top;\n",
       "    }\n",
       "\n",
       "    .dataframe thead th {\n",
       "        text-align: right;\n",
       "    }\n",
       "</style>\n",
       "<table border=\"1\" class=\"dataframe\">\n",
       "  <thead>\n",
       "    <tr style=\"text-align: right;\">\n",
       "      <th></th>\n",
       "      <th>match_id</th>\n",
       "      <th>inning</th>\n",
       "      <th>batting_team</th>\n",
       "      <th>bowling_team</th>\n",
       "      <th>over</th>\n",
       "      <th>ball</th>\n",
       "      <th>batsman</th>\n",
       "      <th>non_striker</th>\n",
       "      <th>bowler</th>\n",
       "      <th>is_super_over</th>\n",
       "      <th>...</th>\n",
       "      <th>bye_runs</th>\n",
       "      <th>legbye_runs</th>\n",
       "      <th>noball_runs</th>\n",
       "      <th>penalty_runs</th>\n",
       "      <th>batsman_runs</th>\n",
       "      <th>extra_runs</th>\n",
       "      <th>total_runs</th>\n",
       "      <th>player_dismissed</th>\n",
       "      <th>dismissal_kind</th>\n",
       "      <th>fielder</th>\n",
       "    </tr>\n",
       "  </thead>\n",
       "  <tbody>\n",
       "    <tr>\n",
       "      <th>0</th>\n",
       "      <td>1</td>\n",
       "      <td>1</td>\n",
       "      <td>Sunrisers Hyderabad</td>\n",
       "      <td>Royal Challengers Bangalore</td>\n",
       "      <td>1</td>\n",
       "      <td>1</td>\n",
       "      <td>DA Warner</td>\n",
       "      <td>S Dhawan</td>\n",
       "      <td>TS Mills</td>\n",
       "      <td>0</td>\n",
       "      <td>...</td>\n",
       "      <td>0</td>\n",
       "      <td>0</td>\n",
       "      <td>0</td>\n",
       "      <td>0</td>\n",
       "      <td>0</td>\n",
       "      <td>0</td>\n",
       "      <td>0</td>\n",
       "      <td>NaN</td>\n",
       "      <td>NaN</td>\n",
       "      <td>NaN</td>\n",
       "    </tr>\n",
       "    <tr>\n",
       "      <th>1</th>\n",
       "      <td>1</td>\n",
       "      <td>1</td>\n",
       "      <td>Sunrisers Hyderabad</td>\n",
       "      <td>Royal Challengers Bangalore</td>\n",
       "      <td>1</td>\n",
       "      <td>2</td>\n",
       "      <td>DA Warner</td>\n",
       "      <td>S Dhawan</td>\n",
       "      <td>TS Mills</td>\n",
       "      <td>0</td>\n",
       "      <td>...</td>\n",
       "      <td>0</td>\n",
       "      <td>0</td>\n",
       "      <td>0</td>\n",
       "      <td>0</td>\n",
       "      <td>0</td>\n",
       "      <td>0</td>\n",
       "      <td>0</td>\n",
       "      <td>NaN</td>\n",
       "      <td>NaN</td>\n",
       "      <td>NaN</td>\n",
       "    </tr>\n",
       "    <tr>\n",
       "      <th>2</th>\n",
       "      <td>1</td>\n",
       "      <td>1</td>\n",
       "      <td>Sunrisers Hyderabad</td>\n",
       "      <td>Royal Challengers Bangalore</td>\n",
       "      <td>1</td>\n",
       "      <td>3</td>\n",
       "      <td>DA Warner</td>\n",
       "      <td>S Dhawan</td>\n",
       "      <td>TS Mills</td>\n",
       "      <td>0</td>\n",
       "      <td>...</td>\n",
       "      <td>0</td>\n",
       "      <td>0</td>\n",
       "      <td>0</td>\n",
       "      <td>0</td>\n",
       "      <td>4</td>\n",
       "      <td>0</td>\n",
       "      <td>4</td>\n",
       "      <td>NaN</td>\n",
       "      <td>NaN</td>\n",
       "      <td>NaN</td>\n",
       "    </tr>\n",
       "    <tr>\n",
       "      <th>3</th>\n",
       "      <td>1</td>\n",
       "      <td>1</td>\n",
       "      <td>Sunrisers Hyderabad</td>\n",
       "      <td>Royal Challengers Bangalore</td>\n",
       "      <td>1</td>\n",
       "      <td>4</td>\n",
       "      <td>DA Warner</td>\n",
       "      <td>S Dhawan</td>\n",
       "      <td>TS Mills</td>\n",
       "      <td>0</td>\n",
       "      <td>...</td>\n",
       "      <td>0</td>\n",
       "      <td>0</td>\n",
       "      <td>0</td>\n",
       "      <td>0</td>\n",
       "      <td>0</td>\n",
       "      <td>0</td>\n",
       "      <td>0</td>\n",
       "      <td>NaN</td>\n",
       "      <td>NaN</td>\n",
       "      <td>NaN</td>\n",
       "    </tr>\n",
       "    <tr>\n",
       "      <th>4</th>\n",
       "      <td>1</td>\n",
       "      <td>1</td>\n",
       "      <td>Sunrisers Hyderabad</td>\n",
       "      <td>Royal Challengers Bangalore</td>\n",
       "      <td>1</td>\n",
       "      <td>5</td>\n",
       "      <td>DA Warner</td>\n",
       "      <td>S Dhawan</td>\n",
       "      <td>TS Mills</td>\n",
       "      <td>0</td>\n",
       "      <td>...</td>\n",
       "      <td>0</td>\n",
       "      <td>0</td>\n",
       "      <td>0</td>\n",
       "      <td>0</td>\n",
       "      <td>0</td>\n",
       "      <td>2</td>\n",
       "      <td>2</td>\n",
       "      <td>NaN</td>\n",
       "      <td>NaN</td>\n",
       "      <td>NaN</td>\n",
       "    </tr>\n",
       "  </tbody>\n",
       "</table>\n",
       "<p>5 rows × 21 columns</p>\n",
       "</div>"
      ],
      "text/plain": [
       "   match_id  inning         batting_team                 bowling_team  over  \\\n",
       "0         1       1  Sunrisers Hyderabad  Royal Challengers Bangalore     1   \n",
       "1         1       1  Sunrisers Hyderabad  Royal Challengers Bangalore     1   \n",
       "2         1       1  Sunrisers Hyderabad  Royal Challengers Bangalore     1   \n",
       "3         1       1  Sunrisers Hyderabad  Royal Challengers Bangalore     1   \n",
       "4         1       1  Sunrisers Hyderabad  Royal Challengers Bangalore     1   \n",
       "\n",
       "   ball    batsman non_striker    bowler  is_super_over  ...  bye_runs  \\\n",
       "0     1  DA Warner    S Dhawan  TS Mills              0  ...         0   \n",
       "1     2  DA Warner    S Dhawan  TS Mills              0  ...         0   \n",
       "2     3  DA Warner    S Dhawan  TS Mills              0  ...         0   \n",
       "3     4  DA Warner    S Dhawan  TS Mills              0  ...         0   \n",
       "4     5  DA Warner    S Dhawan  TS Mills              0  ...         0   \n",
       "\n",
       "   legbye_runs  noball_runs  penalty_runs  batsman_runs  extra_runs  \\\n",
       "0            0            0             0             0           0   \n",
       "1            0            0             0             0           0   \n",
       "2            0            0             0             4           0   \n",
       "3            0            0             0             0           0   \n",
       "4            0            0             0             0           2   \n",
       "\n",
       "   total_runs  player_dismissed dismissal_kind fielder  \n",
       "0           0               NaN            NaN     NaN  \n",
       "1           0               NaN            NaN     NaN  \n",
       "2           4               NaN            NaN     NaN  \n",
       "3           0               NaN            NaN     NaN  \n",
       "4           2               NaN            NaN     NaN  \n",
       "\n",
       "[5 rows x 21 columns]"
      ]
     },
     "execution_count": 4,
     "metadata": {},
     "output_type": "execute_result"
    }
   ],
   "source": [
    "df_balls = pd.read_csv('deliveries.csv',header=0)\n",
    "df_balls.head()"
   ]
  },
  {
   "cell_type": "code",
   "execution_count": 5,
   "metadata": {},
   "outputs": [
    {
     "data": {
      "text/plain": [
       "Index(['match_id', 'inning', 'batting_team', 'bowling_team', 'over', 'ball',\n",
       "       'batsman', 'non_striker', 'bowler', 'is_super_over', 'wide_runs',\n",
       "       'bye_runs', 'legbye_runs', 'noball_runs', 'penalty_runs',\n",
       "       'batsman_runs', 'extra_runs', 'total_runs', 'player_dismissed',\n",
       "       'dismissal_kind', 'fielder'],\n",
       "      dtype='object')"
      ]
     },
     "execution_count": 5,
     "metadata": {},
     "output_type": "execute_result"
    }
   ],
   "source": [
    "df_balls.columns"
   ]
  },
  {
   "cell_type": "code",
   "execution_count": 6,
   "metadata": {},
   "outputs": [
    {
     "data": {
      "text/plain": [
       "(179078, 21)"
      ]
     },
     "execution_count": 6,
     "metadata": {},
     "output_type": "execute_result"
    }
   ],
   "source": [
    "df_balls.shape"
   ]
  },
  {
   "cell_type": "code",
   "execution_count": 7,
   "metadata": {
    "scrolled": false
   },
   "outputs": [
    {
     "data": {
      "text/html": [
       "<div>\n",
       "<style scoped>\n",
       "    .dataframe tbody tr th:only-of-type {\n",
       "        vertical-align: middle;\n",
       "    }\n",
       "\n",
       "    .dataframe tbody tr th {\n",
       "        vertical-align: top;\n",
       "    }\n",
       "\n",
       "    .dataframe thead th {\n",
       "        text-align: right;\n",
       "    }\n",
       "</style>\n",
       "<table border=\"1\" class=\"dataframe\">\n",
       "  <thead>\n",
       "    <tr style=\"text-align: right;\">\n",
       "      <th></th>\n",
       "      <th>match_id</th>\n",
       "      <th>inning</th>\n",
       "      <th>over</th>\n",
       "      <th>ball</th>\n",
       "      <th>is_super_over</th>\n",
       "      <th>wide_runs</th>\n",
       "      <th>bye_runs</th>\n",
       "      <th>legbye_runs</th>\n",
       "      <th>noball_runs</th>\n",
       "      <th>penalty_runs</th>\n",
       "      <th>batsman_runs</th>\n",
       "      <th>extra_runs</th>\n",
       "      <th>total_runs</th>\n",
       "    </tr>\n",
       "  </thead>\n",
       "  <tbody>\n",
       "    <tr>\n",
       "      <th>count</th>\n",
       "      <td>179078.000000</td>\n",
       "      <td>179078.000000</td>\n",
       "      <td>179078.000000</td>\n",
       "      <td>179078.000000</td>\n",
       "      <td>179078.000000</td>\n",
       "      <td>179078.000000</td>\n",
       "      <td>179078.000000</td>\n",
       "      <td>179078.000000</td>\n",
       "      <td>179078.000000</td>\n",
       "      <td>179078.000000</td>\n",
       "      <td>179078.000000</td>\n",
       "      <td>179078.000000</td>\n",
       "      <td>179078.000000</td>\n",
       "    </tr>\n",
       "    <tr>\n",
       "      <th>mean</th>\n",
       "      <td>1802.252957</td>\n",
       "      <td>1.482952</td>\n",
       "      <td>10.162488</td>\n",
       "      <td>3.615587</td>\n",
       "      <td>0.000452</td>\n",
       "      <td>0.036721</td>\n",
       "      <td>0.004936</td>\n",
       "      <td>0.021136</td>\n",
       "      <td>0.004183</td>\n",
       "      <td>0.000056</td>\n",
       "      <td>1.246864</td>\n",
       "      <td>0.067032</td>\n",
       "      <td>1.313897</td>\n",
       "    </tr>\n",
       "    <tr>\n",
       "      <th>std</th>\n",
       "      <td>3472.322805</td>\n",
       "      <td>0.502074</td>\n",
       "      <td>5.677684</td>\n",
       "      <td>1.806966</td>\n",
       "      <td>0.021263</td>\n",
       "      <td>0.251161</td>\n",
       "      <td>0.116480</td>\n",
       "      <td>0.194908</td>\n",
       "      <td>0.070492</td>\n",
       "      <td>0.016709</td>\n",
       "      <td>1.608270</td>\n",
       "      <td>0.342553</td>\n",
       "      <td>1.605422</td>\n",
       "    </tr>\n",
       "    <tr>\n",
       "      <th>min</th>\n",
       "      <td>1.000000</td>\n",
       "      <td>1.000000</td>\n",
       "      <td>1.000000</td>\n",
       "      <td>1.000000</td>\n",
       "      <td>0.000000</td>\n",
       "      <td>0.000000</td>\n",
       "      <td>0.000000</td>\n",
       "      <td>0.000000</td>\n",
       "      <td>0.000000</td>\n",
       "      <td>0.000000</td>\n",
       "      <td>0.000000</td>\n",
       "      <td>0.000000</td>\n",
       "      <td>0.000000</td>\n",
       "    </tr>\n",
       "    <tr>\n",
       "      <th>25%</th>\n",
       "      <td>190.000000</td>\n",
       "      <td>1.000000</td>\n",
       "      <td>5.000000</td>\n",
       "      <td>2.000000</td>\n",
       "      <td>0.000000</td>\n",
       "      <td>0.000000</td>\n",
       "      <td>0.000000</td>\n",
       "      <td>0.000000</td>\n",
       "      <td>0.000000</td>\n",
       "      <td>0.000000</td>\n",
       "      <td>0.000000</td>\n",
       "      <td>0.000000</td>\n",
       "      <td>0.000000</td>\n",
       "    </tr>\n",
       "    <tr>\n",
       "      <th>50%</th>\n",
       "      <td>379.000000</td>\n",
       "      <td>1.000000</td>\n",
       "      <td>10.000000</td>\n",
       "      <td>4.000000</td>\n",
       "      <td>0.000000</td>\n",
       "      <td>0.000000</td>\n",
       "      <td>0.000000</td>\n",
       "      <td>0.000000</td>\n",
       "      <td>0.000000</td>\n",
       "      <td>0.000000</td>\n",
       "      <td>1.000000</td>\n",
       "      <td>0.000000</td>\n",
       "      <td>1.000000</td>\n",
       "    </tr>\n",
       "    <tr>\n",
       "      <th>75%</th>\n",
       "      <td>567.000000</td>\n",
       "      <td>2.000000</td>\n",
       "      <td>15.000000</td>\n",
       "      <td>5.000000</td>\n",
       "      <td>0.000000</td>\n",
       "      <td>0.000000</td>\n",
       "      <td>0.000000</td>\n",
       "      <td>0.000000</td>\n",
       "      <td>0.000000</td>\n",
       "      <td>0.000000</td>\n",
       "      <td>1.000000</td>\n",
       "      <td>0.000000</td>\n",
       "      <td>1.000000</td>\n",
       "    </tr>\n",
       "    <tr>\n",
       "      <th>max</th>\n",
       "      <td>11415.000000</td>\n",
       "      <td>5.000000</td>\n",
       "      <td>20.000000</td>\n",
       "      <td>9.000000</td>\n",
       "      <td>1.000000</td>\n",
       "      <td>5.000000</td>\n",
       "      <td>4.000000</td>\n",
       "      <td>5.000000</td>\n",
       "      <td>5.000000</td>\n",
       "      <td>5.000000</td>\n",
       "      <td>7.000000</td>\n",
       "      <td>7.000000</td>\n",
       "      <td>10.000000</td>\n",
       "    </tr>\n",
       "  </tbody>\n",
       "</table>\n",
       "</div>"
      ],
      "text/plain": [
       "            match_id         inning           over           ball  \\\n",
       "count  179078.000000  179078.000000  179078.000000  179078.000000   \n",
       "mean     1802.252957       1.482952      10.162488       3.615587   \n",
       "std      3472.322805       0.502074       5.677684       1.806966   \n",
       "min         1.000000       1.000000       1.000000       1.000000   \n",
       "25%       190.000000       1.000000       5.000000       2.000000   \n",
       "50%       379.000000       1.000000      10.000000       4.000000   \n",
       "75%       567.000000       2.000000      15.000000       5.000000   \n",
       "max     11415.000000       5.000000      20.000000       9.000000   \n",
       "\n",
       "       is_super_over      wide_runs       bye_runs    legbye_runs  \\\n",
       "count  179078.000000  179078.000000  179078.000000  179078.000000   \n",
       "mean        0.000452       0.036721       0.004936       0.021136   \n",
       "std         0.021263       0.251161       0.116480       0.194908   \n",
       "min         0.000000       0.000000       0.000000       0.000000   \n",
       "25%         0.000000       0.000000       0.000000       0.000000   \n",
       "50%         0.000000       0.000000       0.000000       0.000000   \n",
       "75%         0.000000       0.000000       0.000000       0.000000   \n",
       "max         1.000000       5.000000       4.000000       5.000000   \n",
       "\n",
       "         noball_runs   penalty_runs   batsman_runs     extra_runs  \\\n",
       "count  179078.000000  179078.000000  179078.000000  179078.000000   \n",
       "mean        0.004183       0.000056       1.246864       0.067032   \n",
       "std         0.070492       0.016709       1.608270       0.342553   \n",
       "min         0.000000       0.000000       0.000000       0.000000   \n",
       "25%         0.000000       0.000000       0.000000       0.000000   \n",
       "50%         0.000000       0.000000       1.000000       0.000000   \n",
       "75%         0.000000       0.000000       1.000000       0.000000   \n",
       "max         5.000000       5.000000       7.000000       7.000000   \n",
       "\n",
       "          total_runs  \n",
       "count  179078.000000  \n",
       "mean        1.313897  \n",
       "std         1.605422  \n",
       "min         0.000000  \n",
       "25%         0.000000  \n",
       "50%         1.000000  \n",
       "75%         1.000000  \n",
       "max        10.000000  "
      ]
     },
     "execution_count": 7,
     "metadata": {},
     "output_type": "execute_result"
    }
   ],
   "source": [
    "df_balls.describe()"
   ]
  },
  {
   "cell_type": "markdown",
   "metadata": {},
   "source": [
    "#### <span style=\"color:blue\">Fixing the datasets</span>"
   ]
  },
  {
   "cell_type": "markdown",
   "metadata": {},
   "source": [
    "Our data has some discrepancies, like names of stadiums written in 2 different ways. We will be fixing this, this can be checked by doing value_counts on suspected columns."
   ]
  },
  {
   "cell_type": "code",
   "execution_count": 8,
   "metadata": {
    "scrolled": true
   },
   "outputs": [],
   "source": [
    "df_matches['venue'][df_matches.venue == 'M. Chinnaswamy Stadium'] = 'M Chinnaswamy Stadium'\n",
    "df_matches['city'][df_matches.city.isin(['Bangalore','Bengaluru'])] = 'Bangalore/Bengaluru'\n",
    "df_matches['venue'][df_matches.venue == 'M. A. Chidambaram Stadium'] = 'MA Chidambaram Stadium, Chepauk'"
   ]
  },
  {
   "cell_type": "markdown",
   "metadata": {},
   "source": [
    "filling null values with 'NA' in df_balls"
   ]
  },
  {
   "cell_type": "code",
   "execution_count": 9,
   "metadata": {},
   "outputs": [
    {
     "data": {
      "text/html": [
       "<div>\n",
       "<style scoped>\n",
       "    .dataframe tbody tr th:only-of-type {\n",
       "        vertical-align: middle;\n",
       "    }\n",
       "\n",
       "    .dataframe tbody tr th {\n",
       "        vertical-align: top;\n",
       "    }\n",
       "\n",
       "    .dataframe thead th {\n",
       "        text-align: right;\n",
       "    }\n",
       "</style>\n",
       "<table border=\"1\" class=\"dataframe\">\n",
       "  <thead>\n",
       "    <tr style=\"text-align: right;\">\n",
       "      <th></th>\n",
       "      <th>match_id</th>\n",
       "      <th>inning</th>\n",
       "      <th>batting_team</th>\n",
       "      <th>bowling_team</th>\n",
       "      <th>over</th>\n",
       "      <th>ball</th>\n",
       "      <th>batsman</th>\n",
       "      <th>non_striker</th>\n",
       "      <th>bowler</th>\n",
       "      <th>is_super_over</th>\n",
       "      <th>...</th>\n",
       "      <th>bye_runs</th>\n",
       "      <th>legbye_runs</th>\n",
       "      <th>noball_runs</th>\n",
       "      <th>penalty_runs</th>\n",
       "      <th>batsman_runs</th>\n",
       "      <th>extra_runs</th>\n",
       "      <th>total_runs</th>\n",
       "      <th>player_dismissed</th>\n",
       "      <th>dismissal_kind</th>\n",
       "      <th>fielder</th>\n",
       "    </tr>\n",
       "  </thead>\n",
       "  <tbody>\n",
       "    <tr>\n",
       "      <th>0</th>\n",
       "      <td>1</td>\n",
       "      <td>1</td>\n",
       "      <td>Sunrisers Hyderabad</td>\n",
       "      <td>Royal Challengers Bangalore</td>\n",
       "      <td>1</td>\n",
       "      <td>1</td>\n",
       "      <td>DA Warner</td>\n",
       "      <td>S Dhawan</td>\n",
       "      <td>TS Mills</td>\n",
       "      <td>0</td>\n",
       "      <td>...</td>\n",
       "      <td>0</td>\n",
       "      <td>0</td>\n",
       "      <td>0</td>\n",
       "      <td>0</td>\n",
       "      <td>0</td>\n",
       "      <td>0</td>\n",
       "      <td>0</td>\n",
       "      <td>NA</td>\n",
       "      <td>NA</td>\n",
       "      <td>NA</td>\n",
       "    </tr>\n",
       "    <tr>\n",
       "      <th>1</th>\n",
       "      <td>1</td>\n",
       "      <td>1</td>\n",
       "      <td>Sunrisers Hyderabad</td>\n",
       "      <td>Royal Challengers Bangalore</td>\n",
       "      <td>1</td>\n",
       "      <td>2</td>\n",
       "      <td>DA Warner</td>\n",
       "      <td>S Dhawan</td>\n",
       "      <td>TS Mills</td>\n",
       "      <td>0</td>\n",
       "      <td>...</td>\n",
       "      <td>0</td>\n",
       "      <td>0</td>\n",
       "      <td>0</td>\n",
       "      <td>0</td>\n",
       "      <td>0</td>\n",
       "      <td>0</td>\n",
       "      <td>0</td>\n",
       "      <td>NA</td>\n",
       "      <td>NA</td>\n",
       "      <td>NA</td>\n",
       "    </tr>\n",
       "    <tr>\n",
       "      <th>2</th>\n",
       "      <td>1</td>\n",
       "      <td>1</td>\n",
       "      <td>Sunrisers Hyderabad</td>\n",
       "      <td>Royal Challengers Bangalore</td>\n",
       "      <td>1</td>\n",
       "      <td>3</td>\n",
       "      <td>DA Warner</td>\n",
       "      <td>S Dhawan</td>\n",
       "      <td>TS Mills</td>\n",
       "      <td>0</td>\n",
       "      <td>...</td>\n",
       "      <td>0</td>\n",
       "      <td>0</td>\n",
       "      <td>0</td>\n",
       "      <td>0</td>\n",
       "      <td>4</td>\n",
       "      <td>0</td>\n",
       "      <td>4</td>\n",
       "      <td>NA</td>\n",
       "      <td>NA</td>\n",
       "      <td>NA</td>\n",
       "    </tr>\n",
       "    <tr>\n",
       "      <th>3</th>\n",
       "      <td>1</td>\n",
       "      <td>1</td>\n",
       "      <td>Sunrisers Hyderabad</td>\n",
       "      <td>Royal Challengers Bangalore</td>\n",
       "      <td>1</td>\n",
       "      <td>4</td>\n",
       "      <td>DA Warner</td>\n",
       "      <td>S Dhawan</td>\n",
       "      <td>TS Mills</td>\n",
       "      <td>0</td>\n",
       "      <td>...</td>\n",
       "      <td>0</td>\n",
       "      <td>0</td>\n",
       "      <td>0</td>\n",
       "      <td>0</td>\n",
       "      <td>0</td>\n",
       "      <td>0</td>\n",
       "      <td>0</td>\n",
       "      <td>NA</td>\n",
       "      <td>NA</td>\n",
       "      <td>NA</td>\n",
       "    </tr>\n",
       "    <tr>\n",
       "      <th>4</th>\n",
       "      <td>1</td>\n",
       "      <td>1</td>\n",
       "      <td>Sunrisers Hyderabad</td>\n",
       "      <td>Royal Challengers Bangalore</td>\n",
       "      <td>1</td>\n",
       "      <td>5</td>\n",
       "      <td>DA Warner</td>\n",
       "      <td>S Dhawan</td>\n",
       "      <td>TS Mills</td>\n",
       "      <td>0</td>\n",
       "      <td>...</td>\n",
       "      <td>0</td>\n",
       "      <td>0</td>\n",
       "      <td>0</td>\n",
       "      <td>0</td>\n",
       "      <td>0</td>\n",
       "      <td>2</td>\n",
       "      <td>2</td>\n",
       "      <td>NA</td>\n",
       "      <td>NA</td>\n",
       "      <td>NA</td>\n",
       "    </tr>\n",
       "  </tbody>\n",
       "</table>\n",
       "<p>5 rows × 21 columns</p>\n",
       "</div>"
      ],
      "text/plain": [
       "   match_id  inning         batting_team                 bowling_team  over  \\\n",
       "0         1       1  Sunrisers Hyderabad  Royal Challengers Bangalore     1   \n",
       "1         1       1  Sunrisers Hyderabad  Royal Challengers Bangalore     1   \n",
       "2         1       1  Sunrisers Hyderabad  Royal Challengers Bangalore     1   \n",
       "3         1       1  Sunrisers Hyderabad  Royal Challengers Bangalore     1   \n",
       "4         1       1  Sunrisers Hyderabad  Royal Challengers Bangalore     1   \n",
       "\n",
       "   ball    batsman non_striker    bowler  is_super_over  ...  bye_runs  \\\n",
       "0     1  DA Warner    S Dhawan  TS Mills              0  ...         0   \n",
       "1     2  DA Warner    S Dhawan  TS Mills              0  ...         0   \n",
       "2     3  DA Warner    S Dhawan  TS Mills              0  ...         0   \n",
       "3     4  DA Warner    S Dhawan  TS Mills              0  ...         0   \n",
       "4     5  DA Warner    S Dhawan  TS Mills              0  ...         0   \n",
       "\n",
       "   legbye_runs  noball_runs  penalty_runs  batsman_runs  extra_runs  \\\n",
       "0            0            0             0             0           0   \n",
       "1            0            0             0             0           0   \n",
       "2            0            0             0             4           0   \n",
       "3            0            0             0             0           0   \n",
       "4            0            0             0             0           2   \n",
       "\n",
       "   total_runs  player_dismissed dismissal_kind fielder  \n",
       "0           0                NA             NA      NA  \n",
       "1           0                NA             NA      NA  \n",
       "2           4                NA             NA      NA  \n",
       "3           0                NA             NA      NA  \n",
       "4           2                NA             NA      NA  \n",
       "\n",
       "[5 rows x 21 columns]"
      ]
     },
     "execution_count": 9,
     "metadata": {},
     "output_type": "execute_result"
    }
   ],
   "source": [
    "df_balls['dismissal_kind'][df_balls['dismissal_kind'].isna()] = 'NA'\n",
    "df_balls['player_dismissed'][df_balls['player_dismissed'].isna()] = 'NA'\n",
    "df_balls['fielder'][df_balls['fielder'].isna()] = 'NA'\n",
    "df_balls.head()"
   ]
  },
  {
   "cell_type": "markdown",
   "metadata": {},
   "source": [
    "## <span style=\"color:purple;font:Calibri\">1. Creating new datasets from our provided ones</span>"
   ]
  },
  {
   "cell_type": "markdown",
   "metadata": {},
   "source": [
    "We will be creating new datasets using df_matches and df_balls which will aggregate player_data and match data for analysis."
   ]
  },
  {
   "cell_type": "markdown",
   "metadata": {},
   "source": [
    "#### <span style=\"color:purple;font:Calibri\">1. a. Player with most Man of the matches</span>"
   ]
  },
  {
   "cell_type": "code",
   "execution_count": 10,
   "metadata": {
    "scrolled": false
   },
   "outputs": [
    {
     "data": {
      "text/html": [
       "<div>\n",
       "<style scoped>\n",
       "    .dataframe tbody tr th:only-of-type {\n",
       "        vertical-align: middle;\n",
       "    }\n",
       "\n",
       "    .dataframe tbody tr th {\n",
       "        vertical-align: top;\n",
       "    }\n",
       "\n",
       "    .dataframe thead th {\n",
       "        text-align: right;\n",
       "    }\n",
       "</style>\n",
       "<table border=\"1\" class=\"dataframe\">\n",
       "  <thead>\n",
       "    <tr style=\"text-align: right;\">\n",
       "      <th></th>\n",
       "      <th>player_of_match</th>\n",
       "      <th>id</th>\n",
       "    </tr>\n",
       "  </thead>\n",
       "  <tbody>\n",
       "    <tr>\n",
       "      <th>35</th>\n",
       "      <td>CH Gayle</td>\n",
       "      <td>21</td>\n",
       "    </tr>\n",
       "    <tr>\n",
       "      <th>10</th>\n",
       "      <td>AB de Villiers</td>\n",
       "      <td>20</td>\n",
       "    </tr>\n",
       "    <tr>\n",
       "      <th>137</th>\n",
       "      <td>MS Dhoni</td>\n",
       "      <td>17</td>\n",
       "    </tr>\n",
       "    <tr>\n",
       "      <th>42</th>\n",
       "      <td>DA Warner</td>\n",
       "      <td>17</td>\n",
       "    </tr>\n",
       "    <tr>\n",
       "      <th>167</th>\n",
       "      <td>RG Sharma</td>\n",
       "      <td>17</td>\n",
       "    </tr>\n",
       "    <tr>\n",
       "      <th>222</th>\n",
       "      <td>YK Pathan</td>\n",
       "      <td>16</td>\n",
       "    </tr>\n",
       "    <tr>\n",
       "      <th>201</th>\n",
       "      <td>SR Watson</td>\n",
       "      <td>15</td>\n",
       "    </tr>\n",
       "    <tr>\n",
       "      <th>191</th>\n",
       "      <td>SK Raina</td>\n",
       "      <td>14</td>\n",
       "    </tr>\n",
       "    <tr>\n",
       "      <th>56</th>\n",
       "      <td>G Gambhir</td>\n",
       "      <td>13</td>\n",
       "    </tr>\n",
       "    <tr>\n",
       "      <th>123</th>\n",
       "      <td>MEK Hussey</td>\n",
       "      <td>12</td>\n",
       "    </tr>\n",
       "  </tbody>\n",
       "</table>\n",
       "</div>"
      ],
      "text/plain": [
       "    player_of_match  id\n",
       "35         CH Gayle  21\n",
       "10   AB de Villiers  20\n",
       "137        MS Dhoni  17\n",
       "42        DA Warner  17\n",
       "167       RG Sharma  17\n",
       "222       YK Pathan  16\n",
       "201       SR Watson  15\n",
       "191        SK Raina  14\n",
       "56        G Gambhir  13\n",
       "123      MEK Hussey  12"
      ]
     },
     "execution_count": 10,
     "metadata": {},
     "output_type": "execute_result"
    }
   ],
   "source": [
    "mom_data = df_matches.groupby('player_of_match',as_index=False)['id'].count().sort_values('id',ascending=False)\n",
    "mom_data.head(10)"
   ]
  },
  {
   "cell_type": "markdown",
   "metadata": {},
   "source": [
    "#### <span style=\"color:purple;font:Calibri\">1. b. Dataframe containing batsman data</span>"
   ]
  },
  {
   "cell_type": "code",
   "execution_count": 11,
   "metadata": {},
   "outputs": [
    {
     "data": {
      "text/html": [
       "<div>\n",
       "<style scoped>\n",
       "    .dataframe tbody tr th:only-of-type {\n",
       "        vertical-align: middle;\n",
       "    }\n",
       "\n",
       "    .dataframe tbody tr th {\n",
       "        vertical-align: top;\n",
       "    }\n",
       "\n",
       "    .dataframe thead th {\n",
       "        text-align: right;\n",
       "    }\n",
       "</style>\n",
       "<table border=\"1\" class=\"dataframe\">\n",
       "  <thead>\n",
       "    <tr style=\"text-align: right;\">\n",
       "      <th></th>\n",
       "      <th>batsman</th>\n",
       "      <th>match_id</th>\n",
       "    </tr>\n",
       "  </thead>\n",
       "  <tbody>\n",
       "    <tr>\n",
       "      <th>428</th>\n",
       "      <td>SK Raina</td>\n",
       "      <td>189</td>\n",
       "    </tr>\n",
       "    <tr>\n",
       "      <th>367</th>\n",
       "      <td>RG Sharma</td>\n",
       "      <td>182</td>\n",
       "    </tr>\n",
       "    <tr>\n",
       "      <th>384</th>\n",
       "      <td>RV Uthappa</td>\n",
       "      <td>170</td>\n",
       "    </tr>\n",
       "    <tr>\n",
       "      <th>290</th>\n",
       "      <td>MS Dhoni</td>\n",
       "      <td>170</td>\n",
       "    </tr>\n",
       "    <tr>\n",
       "      <th>486</th>\n",
       "      <td>V Kohli</td>\n",
       "      <td>169</td>\n",
       "    </tr>\n",
       "  </tbody>\n",
       "</table>\n",
       "</div>"
      ],
      "text/plain": [
       "        batsman  match_id\n",
       "428    SK Raina       189\n",
       "367   RG Sharma       182\n",
       "384  RV Uthappa       170\n",
       "290    MS Dhoni       170\n",
       "486     V Kohli       169"
      ]
     },
     "execution_count": 11,
     "metadata": {},
     "output_type": "execute_result"
    }
   ],
   "source": [
    "player_runs = df_balls.groupby('batsman',as_index=False)['batsman_runs'].sum()\n",
    "player_runs.sort_values(by=['batsman_runs'],ascending=False,inplace=True)\n",
    "player_matches = df_balls.groupby('batsman',as_index=False).agg({'match_id': pd.Series.nunique})\n",
    "player_matches.sort_values(by=['match_id'],ascending=False,inplace=True)\n",
    "player_matches.head()"
   ]
  },
  {
   "cell_type": "code",
   "execution_count": 12,
   "metadata": {
    "scrolled": true
   },
   "outputs": [
    {
     "data": {
      "text/html": [
       "<div>\n",
       "<style scoped>\n",
       "    .dataframe tbody tr th:only-of-type {\n",
       "        vertical-align: middle;\n",
       "    }\n",
       "\n",
       "    .dataframe tbody tr th {\n",
       "        vertical-align: top;\n",
       "    }\n",
       "\n",
       "    .dataframe thead th {\n",
       "        text-align: right;\n",
       "    }\n",
       "</style>\n",
       "<table border=\"1\" class=\"dataframe\">\n",
       "  <thead>\n",
       "    <tr style=\"text-align: right;\">\n",
       "      <th></th>\n",
       "      <th>batsman</th>\n",
       "      <th>batsman_runs</th>\n",
       "      <th>matches</th>\n",
       "      <th>MOM Wins</th>\n",
       "      <th>average</th>\n",
       "    </tr>\n",
       "  </thead>\n",
       "  <tbody>\n",
       "    <tr>\n",
       "      <th>0</th>\n",
       "      <td>V Kohli</td>\n",
       "      <td>5434</td>\n",
       "      <td>169</td>\n",
       "      <td>12</td>\n",
       "      <td>32.153846</td>\n",
       "    </tr>\n",
       "    <tr>\n",
       "      <th>1</th>\n",
       "      <td>SK Raina</td>\n",
       "      <td>5415</td>\n",
       "      <td>189</td>\n",
       "      <td>14</td>\n",
       "      <td>28.650794</td>\n",
       "    </tr>\n",
       "    <tr>\n",
       "      <th>2</th>\n",
       "      <td>RG Sharma</td>\n",
       "      <td>4914</td>\n",
       "      <td>182</td>\n",
       "      <td>17</td>\n",
       "      <td>27.000000</td>\n",
       "    </tr>\n",
       "    <tr>\n",
       "      <th>3</th>\n",
       "      <td>DA Warner</td>\n",
       "      <td>4741</td>\n",
       "      <td>126</td>\n",
       "      <td>17</td>\n",
       "      <td>37.626984</td>\n",
       "    </tr>\n",
       "    <tr>\n",
       "      <th>4</th>\n",
       "      <td>S Dhawan</td>\n",
       "      <td>4632</td>\n",
       "      <td>158</td>\n",
       "      <td>6</td>\n",
       "      <td>29.316456</td>\n",
       "    </tr>\n",
       "    <tr>\n",
       "      <th>5</th>\n",
       "      <td>CH Gayle</td>\n",
       "      <td>4560</td>\n",
       "      <td>124</td>\n",
       "      <td>21</td>\n",
       "      <td>36.774194</td>\n",
       "    </tr>\n",
       "    <tr>\n",
       "      <th>6</th>\n",
       "      <td>MS Dhoni</td>\n",
       "      <td>4477</td>\n",
       "      <td>170</td>\n",
       "      <td>17</td>\n",
       "      <td>26.335294</td>\n",
       "    </tr>\n",
       "    <tr>\n",
       "      <th>7</th>\n",
       "      <td>RV Uthappa</td>\n",
       "      <td>4446</td>\n",
       "      <td>170</td>\n",
       "      <td>7</td>\n",
       "      <td>26.152941</td>\n",
       "    </tr>\n",
       "    <tr>\n",
       "      <th>8</th>\n",
       "      <td>AB de Villiers</td>\n",
       "      <td>4428</td>\n",
       "      <td>142</td>\n",
       "      <td>20</td>\n",
       "      <td>31.183099</td>\n",
       "    </tr>\n",
       "    <tr>\n",
       "      <th>9</th>\n",
       "      <td>G Gambhir</td>\n",
       "      <td>4223</td>\n",
       "      <td>151</td>\n",
       "      <td>13</td>\n",
       "      <td>27.966887</td>\n",
       "    </tr>\n",
       "  </tbody>\n",
       "</table>\n",
       "</div>"
      ],
      "text/plain": [
       "          batsman  batsman_runs  matches  MOM Wins    average\n",
       "0         V Kohli          5434      169        12  32.153846\n",
       "1        SK Raina          5415      189        14  28.650794\n",
       "2       RG Sharma          4914      182        17  27.000000\n",
       "3       DA Warner          4741      126        17  37.626984\n",
       "4        S Dhawan          4632      158         6  29.316456\n",
       "5        CH Gayle          4560      124        21  36.774194\n",
       "6        MS Dhoni          4477      170        17  26.335294\n",
       "7      RV Uthappa          4446      170         7  26.152941\n",
       "8  AB de Villiers          4428      142        20  31.183099\n",
       "9       G Gambhir          4223      151        13  27.966887"
      ]
     },
     "execution_count": 12,
     "metadata": {},
     "output_type": "execute_result"
    }
   ],
   "source": [
    "player_data = player_runs.merge(player_matches,on=['batsman'])\n",
    "player_data.rename(columns={'match_id':'matches'},inplace=True)\n",
    "#mom_data.rename(columns={'player_of_match':'batsman','id':'MOM Wins'},inplace=True)\n",
    "player_data = player_data.merge(mom_data.rename(columns={'player_of_match':'batsman','id':'MOM Wins'}),on=['batsman'])\n",
    "player_data['average'] = player_data.batsman_runs/player_data.matches\n",
    "player_data.sort_values(by=['batsman_runs'],inplace=True,ascending=False)\n",
    "player_data.head(10)"
   ]
  },
  {
   "cell_type": "code",
   "execution_count": 13,
   "metadata": {},
   "outputs": [
    {
     "data": {
      "text/html": [
       "<div>\n",
       "<style scoped>\n",
       "    .dataframe tbody tr th:only-of-type {\n",
       "        vertical-align: middle;\n",
       "    }\n",
       "\n",
       "    .dataframe tbody tr th {\n",
       "        vertical-align: top;\n",
       "    }\n",
       "\n",
       "    .dataframe thead th {\n",
       "        text-align: right;\n",
       "    }\n",
       "</style>\n",
       "<table border=\"1\" class=\"dataframe\">\n",
       "  <thead>\n",
       "    <tr style=\"text-align: right;\">\n",
       "      <th></th>\n",
       "      <th>batsman</th>\n",
       "      <th>batsman_runs</th>\n",
       "      <th>matches</th>\n",
       "      <th>MOM Wins</th>\n",
       "      <th>average</th>\n",
       "      <th>balls_faced</th>\n",
       "      <th>strk_rate</th>\n",
       "    </tr>\n",
       "  </thead>\n",
       "  <tbody>\n",
       "    <tr>\n",
       "      <th>0</th>\n",
       "      <td>V Kohli</td>\n",
       "      <td>5434</td>\n",
       "      <td>169</td>\n",
       "      <td>12</td>\n",
       "      <td>32.153846</td>\n",
       "      <td>4114</td>\n",
       "      <td>132.085561</td>\n",
       "    </tr>\n",
       "    <tr>\n",
       "      <th>1</th>\n",
       "      <td>SK Raina</td>\n",
       "      <td>5415</td>\n",
       "      <td>189</td>\n",
       "      <td>14</td>\n",
       "      <td>28.650794</td>\n",
       "      <td>3917</td>\n",
       "      <td>138.243554</td>\n",
       "    </tr>\n",
       "    <tr>\n",
       "      <th>2</th>\n",
       "      <td>RG Sharma</td>\n",
       "      <td>4914</td>\n",
       "      <td>182</td>\n",
       "      <td>17</td>\n",
       "      <td>27.000000</td>\n",
       "      <td>3744</td>\n",
       "      <td>131.250000</td>\n",
       "    </tr>\n",
       "    <tr>\n",
       "      <th>3</th>\n",
       "      <td>DA Warner</td>\n",
       "      <td>4741</td>\n",
       "      <td>126</td>\n",
       "      <td>17</td>\n",
       "      <td>37.626984</td>\n",
       "      <td>3306</td>\n",
       "      <td>143.405929</td>\n",
       "    </tr>\n",
       "    <tr>\n",
       "      <th>4</th>\n",
       "      <td>S Dhawan</td>\n",
       "      <td>4632</td>\n",
       "      <td>158</td>\n",
       "      <td>6</td>\n",
       "      <td>29.316456</td>\n",
       "      <td>3671</td>\n",
       "      <td>126.178153</td>\n",
       "    </tr>\n",
       "  </tbody>\n",
       "</table>\n",
       "</div>"
      ],
      "text/plain": [
       "     batsman  batsman_runs  matches  MOM Wins    average  balls_faced  \\\n",
       "0    V Kohli          5434      169        12  32.153846         4114   \n",
       "1   SK Raina          5415      189        14  28.650794         3917   \n",
       "2  RG Sharma          4914      182        17  27.000000         3744   \n",
       "3  DA Warner          4741      126        17  37.626984         3306   \n",
       "4   S Dhawan          4632      158         6  29.316456         3671   \n",
       "\n",
       "    strk_rate  \n",
       "0  132.085561  \n",
       "1  138.243554  \n",
       "2  131.250000  \n",
       "3  143.405929  \n",
       "4  126.178153  "
      ]
     },
     "execution_count": 13,
     "metadata": {},
     "output_type": "execute_result"
    }
   ],
   "source": [
    "batsman_balls = df_balls[df_balls.wide_runs == 0].groupby('batsman',as_index=False)['ball'].count()\n",
    "batsman_balls.rename(columns={'ball':'balls_faced'},inplace=True)\n",
    "player_data = player_data.merge(batsman_balls,on=['batsman'])\n",
    "player_data['strk_rate'] = 100*(player_data['batsman_runs']/player_data['balls_faced'])\n",
    "player_data.head()"
   ]
  },
  {
   "cell_type": "code",
   "execution_count": 14,
   "metadata": {
    "scrolled": false
   },
   "outputs": [
    {
     "data": {
      "text/html": [
       "<div>\n",
       "<style scoped>\n",
       "    .dataframe tbody tr th:only-of-type {\n",
       "        vertical-align: middle;\n",
       "    }\n",
       "\n",
       "    .dataframe tbody tr th {\n",
       "        vertical-align: top;\n",
       "    }\n",
       "\n",
       "    .dataframe thead th {\n",
       "        text-align: right;\n",
       "    }\n",
       "</style>\n",
       "<table border=\"1\" class=\"dataframe\">\n",
       "  <thead>\n",
       "    <tr style=\"text-align: right;\">\n",
       "      <th></th>\n",
       "      <th>batsman</th>\n",
       "      <th>batsman_runs</th>\n",
       "      <th>matches</th>\n",
       "      <th>MOM Wins</th>\n",
       "      <th>average</th>\n",
       "      <th>balls_faced</th>\n",
       "      <th>strk_rate</th>\n",
       "    </tr>\n",
       "  </thead>\n",
       "  <tbody>\n",
       "    <tr>\n",
       "      <th>0</th>\n",
       "      <td>V Kohli</td>\n",
       "      <td>5434</td>\n",
       "      <td>169</td>\n",
       "      <td>12</td>\n",
       "      <td>32.153846</td>\n",
       "      <td>4114</td>\n",
       "      <td>132.085561</td>\n",
       "    </tr>\n",
       "    <tr>\n",
       "      <th>1</th>\n",
       "      <td>SK Raina</td>\n",
       "      <td>5415</td>\n",
       "      <td>189</td>\n",
       "      <td>14</td>\n",
       "      <td>28.650794</td>\n",
       "      <td>3917</td>\n",
       "      <td>138.243554</td>\n",
       "    </tr>\n",
       "    <tr>\n",
       "      <th>2</th>\n",
       "      <td>RG Sharma</td>\n",
       "      <td>4914</td>\n",
       "      <td>182</td>\n",
       "      <td>17</td>\n",
       "      <td>27.000000</td>\n",
       "      <td>3744</td>\n",
       "      <td>131.250000</td>\n",
       "    </tr>\n",
       "    <tr>\n",
       "      <th>3</th>\n",
       "      <td>DA Warner</td>\n",
       "      <td>4741</td>\n",
       "      <td>126</td>\n",
       "      <td>17</td>\n",
       "      <td>37.626984</td>\n",
       "      <td>3306</td>\n",
       "      <td>143.405929</td>\n",
       "    </tr>\n",
       "    <tr>\n",
       "      <th>4</th>\n",
       "      <td>S Dhawan</td>\n",
       "      <td>4632</td>\n",
       "      <td>158</td>\n",
       "      <td>6</td>\n",
       "      <td>29.316456</td>\n",
       "      <td>3671</td>\n",
       "      <td>126.178153</td>\n",
       "    </tr>\n",
       "  </tbody>\n",
       "</table>\n",
       "</div>"
      ],
      "text/plain": [
       "     batsman  batsman_runs  matches  MOM Wins    average  balls_faced  \\\n",
       "0    V Kohli          5434      169        12  32.153846         4114   \n",
       "1   SK Raina          5415      189        14  28.650794         3917   \n",
       "2  RG Sharma          4914      182        17  27.000000         3744   \n",
       "3  DA Warner          4741      126        17  37.626984         3306   \n",
       "4   S Dhawan          4632      158         6  29.316456         3671   \n",
       "\n",
       "    strk_rate  \n",
       "0  132.085561  \n",
       "1  138.243554  \n",
       "2  131.250000  \n",
       "3  143.405929  \n",
       "4  126.178153  "
      ]
     },
     "execution_count": 14,
     "metadata": {},
     "output_type": "execute_result"
    }
   ],
   "source": [
    "player_data.head()"
   ]
  },
  {
   "cell_type": "markdown",
   "metadata": {},
   "source": [
    "#### <span style=\"color:purple;font:Calibri\">1. c. Dataframe containing bowler data</span>"
   ]
  },
  {
   "cell_type": "code",
   "execution_count": 15,
   "metadata": {
    "scrolled": true
   },
   "outputs": [
    {
     "data": {
      "text/html": [
       "<div>\n",
       "<style scoped>\n",
       "    .dataframe tbody tr th:only-of-type {\n",
       "        vertical-align: middle;\n",
       "    }\n",
       "\n",
       "    .dataframe tbody tr th {\n",
       "        vertical-align: top;\n",
       "    }\n",
       "\n",
       "    .dataframe thead th {\n",
       "        text-align: right;\n",
       "    }\n",
       "</style>\n",
       "<table border=\"1\" class=\"dataframe\">\n",
       "  <thead>\n",
       "    <tr style=\"text-align: right;\">\n",
       "      <th></th>\n",
       "      <th>bowler</th>\n",
       "      <th>wickets_taken</th>\n",
       "      <th>matches</th>\n",
       "      <th>bowler_runs_conceded</th>\n",
       "      <th>average</th>\n",
       "      <th>MOM Wins</th>\n",
       "    </tr>\n",
       "  </thead>\n",
       "  <tbody>\n",
       "    <tr>\n",
       "      <th>137</th>\n",
       "      <td>SL Malinga</td>\n",
       "      <td>170</td>\n",
       "      <td>122</td>\n",
       "      <td>3395</td>\n",
       "      <td>19.970588</td>\n",
       "      <td>6</td>\n",
       "    </tr>\n",
       "    <tr>\n",
       "      <th>3</th>\n",
       "      <td>A Mishra</td>\n",
       "      <td>156</td>\n",
       "      <td>147</td>\n",
       "      <td>3804</td>\n",
       "      <td>24.384615</td>\n",
       "      <td>11</td>\n",
       "    </tr>\n",
       "    <tr>\n",
       "      <th>50</th>\n",
       "      <td>Harbhajan Singh</td>\n",
       "      <td>150</td>\n",
       "      <td>157</td>\n",
       "      <td>3979</td>\n",
       "      <td>26.526667</td>\n",
       "      <td>8</td>\n",
       "    </tr>\n",
       "    <tr>\n",
       "      <th>111</th>\n",
       "      <td>PP Chawla</td>\n",
       "      <td>149</td>\n",
       "      <td>156</td>\n",
       "      <td>4086</td>\n",
       "      <td>27.422819</td>\n",
       "      <td>3</td>\n",
       "    </tr>\n",
       "    <tr>\n",
       "      <th>35</th>\n",
       "      <td>DJ Bravo</td>\n",
       "      <td>147</td>\n",
       "      <td>131</td>\n",
       "      <td>3662</td>\n",
       "      <td>24.911565</td>\n",
       "      <td>3</td>\n",
       "    </tr>\n",
       "    <tr>\n",
       "      <th>20</th>\n",
       "      <td>B Kumar</td>\n",
       "      <td>133</td>\n",
       "      <td>117</td>\n",
       "      <td>3185</td>\n",
       "      <td>23.947368</td>\n",
       "      <td>5</td>\n",
       "    </tr>\n",
       "    <tr>\n",
       "      <th>114</th>\n",
       "      <td>R Ashwin</td>\n",
       "      <td>125</td>\n",
       "      <td>136</td>\n",
       "      <td>3337</td>\n",
       "      <td>26.696000</td>\n",
       "      <td>2</td>\n",
       "    </tr>\n",
       "    <tr>\n",
       "      <th>139</th>\n",
       "      <td>SP Narine</td>\n",
       "      <td>122</td>\n",
       "      <td>109</td>\n",
       "      <td>2884</td>\n",
       "      <td>23.639344</td>\n",
       "      <td>9</td>\n",
       "    </tr>\n",
       "    <tr>\n",
       "      <th>150</th>\n",
       "      <td>UT Yadav</td>\n",
       "      <td>119</td>\n",
       "      <td>118</td>\n",
       "      <td>3550</td>\n",
       "      <td>29.831933</td>\n",
       "      <td>8</td>\n",
       "    </tr>\n",
       "    <tr>\n",
       "      <th>119</th>\n",
       "      <td>RA Jadeja</td>\n",
       "      <td>108</td>\n",
       "      <td>142</td>\n",
       "      <td>3176</td>\n",
       "      <td>29.407407</td>\n",
       "      <td>8</td>\n",
       "    </tr>\n",
       "  </tbody>\n",
       "</table>\n",
       "</div>"
      ],
      "text/plain": [
       "              bowler  wickets_taken  matches  bowler_runs_conceded    average  \\\n",
       "137       SL Malinga            170      122                  3395  19.970588   \n",
       "3           A Mishra            156      147                  3804  24.384615   \n",
       "50   Harbhajan Singh            150      157                  3979  26.526667   \n",
       "111        PP Chawla            149      156                  4086  27.422819   \n",
       "35          DJ Bravo            147      131                  3662  24.911565   \n",
       "20           B Kumar            133      117                  3185  23.947368   \n",
       "114         R Ashwin            125      136                  3337  26.696000   \n",
       "139        SP Narine            122      109                  2884  23.639344   \n",
       "150         UT Yadav            119      118                  3550  29.831933   \n",
       "119        RA Jadeja            108      142                  3176  29.407407   \n",
       "\n",
       "     MOM Wins  \n",
       "137         6  \n",
       "3          11  \n",
       "50          8  \n",
       "111         3  \n",
       "35          3  \n",
       "20          5  \n",
       "114         2  \n",
       "139         9  \n",
       "150         8  \n",
       "119         8  "
      ]
     },
     "execution_count": 15,
     "metadata": {},
     "output_type": "execute_result"
    }
   ],
   "source": [
    "player_wickets = df_balls[(df_balls.player_dismissed.notna()) & \n",
    "                          (~df_balls['dismissal_kind'].isin(\n",
    "                              ['NA','run out', 'retired hurt', 'obstructing the field']))].groupby('bowler',as_index=False)['player_dismissed'].count()\n",
    "player_matches = df_balls.groupby('bowler',as_index=False).agg({'match_id': pd.Series.nunique})\n",
    "player_wickets = player_wickets.merge(player_matches.rename(columns={'match_id':'matches'}),on='bowler')\n",
    "df_balls['bowler_runs_conceded'] = df_balls.wide_runs + df_balls.noball_runs + df_balls.penalty_runs + df_balls.batsman_runs\n",
    "player_runs = df_balls.groupby('bowler',as_index=False)['bowler_runs_conceded'].sum()\n",
    "bowler_data = player_wickets.merge(player_runs[['bowler','bowler_runs_conceded']],on='bowler')\n",
    "bowler_data['average'] = bowler_data.bowler_runs_conceded/bowler_data.player_dismissed\n",
    "bowler_data = bowler_data.merge(mom_data.rename(columns={'player_of_match':'bowler','id':'MOM Wins'}),on=['bowler'])\n",
    "bowler_data.rename(columns={'player_dismissed':'wickets_taken'},inplace=True)\n",
    "top_10_bowlers = bowler_data.sort_values(by='wickets_taken',ascending=False).head(10)\n",
    "top_10_bowlers"
   ]
  },
  {
   "cell_type": "code",
   "execution_count": 16,
   "metadata": {
    "scrolled": true
   },
   "outputs": [
    {
     "data": {
      "text/html": [
       "<div>\n",
       "<style scoped>\n",
       "    .dataframe tbody tr th:only-of-type {\n",
       "        vertical-align: middle;\n",
       "    }\n",
       "\n",
       "    .dataframe tbody tr th {\n",
       "        vertical-align: top;\n",
       "    }\n",
       "\n",
       "    .dataframe thead th {\n",
       "        text-align: right;\n",
       "    }\n",
       "</style>\n",
       "<table border=\"1\" class=\"dataframe\">\n",
       "  <thead>\n",
       "    <tr style=\"text-align: right;\">\n",
       "      <th></th>\n",
       "      <th>bowler</th>\n",
       "      <th>wickets_taken</th>\n",
       "      <th>matches</th>\n",
       "      <th>bowler_runs_conceded</th>\n",
       "      <th>average</th>\n",
       "      <th>MOM Wins</th>\n",
       "      <th>balls_bowled</th>\n",
       "      <th>bowler_strk_rate</th>\n",
       "    </tr>\n",
       "  </thead>\n",
       "  <tbody>\n",
       "    <tr>\n",
       "      <th>0</th>\n",
       "      <td>A Chandila</td>\n",
       "      <td>11</td>\n",
       "      <td>12</td>\n",
       "      <td>242</td>\n",
       "      <td>22.000000</td>\n",
       "      <td>1</td>\n",
       "      <td>234</td>\n",
       "      <td>21.272727</td>\n",
       "    </tr>\n",
       "    <tr>\n",
       "      <th>1</th>\n",
       "      <td>A Joseph</td>\n",
       "      <td>6</td>\n",
       "      <td>3</td>\n",
       "      <td>92</td>\n",
       "      <td>15.333333</td>\n",
       "      <td>1</td>\n",
       "      <td>52</td>\n",
       "      <td>8.666667</td>\n",
       "    </tr>\n",
       "    <tr>\n",
       "      <th>2</th>\n",
       "      <td>A Kumble</td>\n",
       "      <td>45</td>\n",
       "      <td>42</td>\n",
       "      <td>1058</td>\n",
       "      <td>23.511111</td>\n",
       "      <td>3</td>\n",
       "      <td>965</td>\n",
       "      <td>21.444444</td>\n",
       "    </tr>\n",
       "    <tr>\n",
       "      <th>3</th>\n",
       "      <td>A Mishra</td>\n",
       "      <td>156</td>\n",
       "      <td>147</td>\n",
       "      <td>3804</td>\n",
       "      <td>24.384615</td>\n",
       "      <td>11</td>\n",
       "      <td>3102</td>\n",
       "      <td>19.884615</td>\n",
       "    </tr>\n",
       "    <tr>\n",
       "      <th>4</th>\n",
       "      <td>A Nehra</td>\n",
       "      <td>106</td>\n",
       "      <td>88</td>\n",
       "      <td>2495</td>\n",
       "      <td>23.537736</td>\n",
       "      <td>6</td>\n",
       "      <td>1908</td>\n",
       "      <td>18.000000</td>\n",
       "    </tr>\n",
       "  </tbody>\n",
       "</table>\n",
       "</div>"
      ],
      "text/plain": [
       "       bowler  wickets_taken  matches  bowler_runs_conceded    average  \\\n",
       "0  A Chandila             11       12                   242  22.000000   \n",
       "1    A Joseph              6        3                    92  15.333333   \n",
       "2    A Kumble             45       42                  1058  23.511111   \n",
       "3    A Mishra            156      147                  3804  24.384615   \n",
       "4     A Nehra            106       88                  2495  23.537736   \n",
       "\n",
       "   MOM Wins  balls_bowled  bowler_strk_rate  \n",
       "0         1           234         21.272727  \n",
       "1         1            52          8.666667  \n",
       "2         3           965         21.444444  \n",
       "3        11          3102         19.884615  \n",
       "4         6          1908         18.000000  "
      ]
     },
     "execution_count": 16,
     "metadata": {},
     "output_type": "execute_result"
    }
   ],
   "source": [
    "bowler_balls = df_balls[(df_balls.wide_runs == 0) & (df_balls.noball_runs == 0)].groupby('bowler',as_index=False)['ball'].count()\n",
    "bowler_balls.rename(columns={'ball':'balls_bowled'},inplace=True)\n",
    "bowler_data = bowler_data.merge(bowler_balls,on=['bowler'])\n",
    "bowler_data['bowler_strk_rate'] = (bowler_data['balls_bowled']/bowler_data['wickets_taken'])\n",
    "bowler_data.head()"
   ]
  },
  {
   "cell_type": "markdown",
   "metadata": {},
   "source": [
    "#### <span style=\"color:purple;font:Calibri\">1. d. Fetching all player names and team names for categorical features encoding</span>"
   ]
  },
  {
   "cell_type": "code",
   "execution_count": 17,
   "metadata": {},
   "outputs": [],
   "source": [
    "allplayers = list(df_balls['batsman'].unique()) + list(df_balls['bowler'].unique()) + list(df_balls['non_striker'].unique())\n",
    "allplayers_unique = set(allplayers)\n",
    "\n",
    "allteams = list(df_balls['batting_team'].unique()) + list(df_balls['bowling_team'].unique())\n",
    "allteams_unique = set(allteams)\n"
   ]
  },
  {
   "cell_type": "markdown",
   "metadata": {},
   "source": [
    "### <span style=\"color:orange;font:Calibri\">Some analysis on above created datasets</span>"
   ]
  },
  {
   "cell_type": "markdown",
   "metadata": {},
   "source": [
    "##### <span style=\"color:orange;font:Calibri\">Team winning batting 1st or 2nd? in each ground</span>"
   ]
  },
  {
   "cell_type": "code",
   "execution_count": 18,
   "metadata": {},
   "outputs": [
    {
     "data": {
      "text/html": [
       "<div>\n",
       "<style scoped>\n",
       "    .dataframe tbody tr th:only-of-type {\n",
       "        vertical-align: middle;\n",
       "    }\n",
       "\n",
       "    .dataframe tbody tr th {\n",
       "        vertical-align: top;\n",
       "    }\n",
       "\n",
       "    .dataframe thead th {\n",
       "        text-align: right;\n",
       "    }\n",
       "</style>\n",
       "<table border=\"1\" class=\"dataframe\">\n",
       "  <thead>\n",
       "    <tr style=\"text-align: right;\">\n",
       "      <th></th>\n",
       "      <th></th>\n",
       "      <th>Fielding First Win Count</th>\n",
       "      <th>Batting First Win Count</th>\n",
       "      <th>Diff</th>\n",
       "    </tr>\n",
       "    <tr>\n",
       "      <th>city</th>\n",
       "      <th>venue</th>\n",
       "      <th></th>\n",
       "      <th></th>\n",
       "      <th></th>\n",
       "    </tr>\n",
       "  </thead>\n",
       "  <tbody>\n",
       "    <tr>\n",
       "      <th>Chennai</th>\n",
       "      <th>MA Chidambaram Stadium, Chepauk</th>\n",
       "      <td>23</td>\n",
       "      <td>34.0</td>\n",
       "      <td>11.0</td>\n",
       "    </tr>\n",
       "    <tr>\n",
       "      <th>Pune</th>\n",
       "      <th>Subrata Roy Sahara Stadium</th>\n",
       "      <td>6</td>\n",
       "      <td>11.0</td>\n",
       "      <td>5.0</td>\n",
       "    </tr>\n",
       "    <tr>\n",
       "      <th>Durban</th>\n",
       "      <th>Kingsmead</th>\n",
       "      <td>6</td>\n",
       "      <td>9.0</td>\n",
       "      <td>3.0</td>\n",
       "    </tr>\n",
       "    <tr>\n",
       "      <th>Visakhapatnam</th>\n",
       "      <th>Dr. Y.S. Rajasekhara Reddy ACA-VDCA Cricket Stadium</th>\n",
       "      <td>4</td>\n",
       "      <td>7.0</td>\n",
       "      <td>3.0</td>\n",
       "    </tr>\n",
       "    <tr>\n",
       "      <th>Hyderabad</th>\n",
       "      <th>Rajiv Gandhi Intl. Cricket Stadium</th>\n",
       "      <td>3</td>\n",
       "      <td>5.0</td>\n",
       "      <td>2.0</td>\n",
       "    </tr>\n",
       "  </tbody>\n",
       "</table>\n",
       "</div>"
      ],
      "text/plain": [
       "                                                                  Fielding First Win Count  \\\n",
       "city          venue                                                                          \n",
       "Chennai       MA Chidambaram Stadium, Chepauk                                           23   \n",
       "Pune          Subrata Roy Sahara Stadium                                                 6   \n",
       "Durban        Kingsmead                                                                  6   \n",
       "Visakhapatnam Dr. Y.S. Rajasekhara Reddy ACA-VDCA Cricket Sta...                         4   \n",
       "Hyderabad     Rajiv Gandhi Intl. Cricket Stadium                                         3   \n",
       "\n",
       "                                                                  Batting First Win Count  \\\n",
       "city          venue                                                                         \n",
       "Chennai       MA Chidambaram Stadium, Chepauk                                        34.0   \n",
       "Pune          Subrata Roy Sahara Stadium                                             11.0   \n",
       "Durban        Kingsmead                                                               9.0   \n",
       "Visakhapatnam Dr. Y.S. Rajasekhara Reddy ACA-VDCA Cricket Sta...                      7.0   \n",
       "Hyderabad     Rajiv Gandhi Intl. Cricket Stadium                                      5.0   \n",
       "\n",
       "                                                                  Diff  \n",
       "city          venue                                                     \n",
       "Chennai       MA Chidambaram Stadium, Chepauk                     11.0  \n",
       "Pune          Subrata Roy Sahara Stadium                           5.0  \n",
       "Durban        Kingsmead                                            3.0  \n",
       "Visakhapatnam Dr. Y.S. Rajasekhara Reddy ACA-VDCA Cricket Sta...   3.0  \n",
       "Hyderabad     Rajiv Gandhi Intl. Cricket Stadium                   2.0  "
      ]
     },
     "execution_count": 18,
     "metadata": {},
     "output_type": "execute_result"
    }
   ],
   "source": [
    "field_win = df_matches[df_matches['win_by_runs'] == 0].groupby(['city','venue'],as_index=False)['id'].count()\n",
    "field_win.rename(columns={'id':'Fielding First Win Count'},inplace=True)\n",
    "bat_win = df_matches[df_matches['win_by_runs'] > 0].groupby(['city','venue'],as_index=False)['id'].count()\n",
    "bat_win.rename(columns={'id':'Batting First Win Count'},inplace=True)\n",
    "ground_win = field_win.set_index(['city','venue']).join(bat_win.set_index(['city','venue']))\n",
    "ground_win['Diff'] = ground_win['Batting First Win Count'] - ground_win['Fielding First Win Count']\n",
    "ground_win.sort_values(by='Diff',ascending=False).fillna(0).head()"
   ]
  },
  {
   "cell_type": "code",
   "execution_count": 19,
   "metadata": {
    "scrolled": true
   },
   "outputs": [
    {
     "data": {
      "image/png": "[encoded data removed]",
      "text/plain": [
       "<Figure size 216x648 with 2 Axes>"
      ]
     },
     "metadata": {
      "needs_background": "light"
     },
     "output_type": "display_data"
    }
   ],
   "source": [
    "plotter=ground_win.reset_index()\n",
    "plotter = plotter[['city','venue','Diff']].fillna(0)\n",
    "plotter.set_index(['city','venue'],inplace=True)\n",
    "plt.figure(figsize=(3,9))\n",
    "sns.heatmap(plotter,annot=True,cmap=\"YlGnBu\")\n",
    "plt.show()"
   ]
  },
  {
   "cell_type": "markdown",
   "metadata": {},
   "source": [
    "We can see teams batting first win in Chennai and Pune but teams batting second win in Kolkata, Jaipur, and Bangalore"
   ]
  },
  {
   "cell_type": "markdown",
   "metadata": {},
   "source": [
    "##### <span style=\"color:orange;font:Calibri\">Team favouring ground</span>"
   ]
  },
  {
   "cell_type": "code",
   "execution_count": 20,
   "metadata": {
    "scrolled": false
   },
   "outputs": [
    {
     "data": {
      "image/png": "[encoded data removed]",
      "text/plain": [
       "<Figure size 1440x504 with 1 Axes>"
      ]
     },
     "metadata": {
      "needs_background": "light"
     },
     "output_type": "display_data"
    }
   ],
   "source": [
    "ground_winner = df_matches.groupby(['city','winner'])['id'].count().unstack('winner').fillna(0)\n",
    "cmap = cm.get_cmap('Spectral')\n",
    "ax = ground_winner.plot(kind='bar',stacked=True,figsize=(20,7),width=0.8,colormap=cmap)\n",
    "for p in ax.patches:\n",
    "    width, height = p.get_width(), p.get_height()\n",
    "    x, y = p.get_xy()\n",
    "    if height>5:\n",
    "        ax.text(x+width/2, \n",
    "            y+height/2, \n",
    "            int(height), \n",
    "            horizontalalignment='center', \n",
    "            verticalalignment='center')"
   ]
  },
  {
   "cell_type": "markdown",
   "metadata": {},
   "source": [
    "All the teams are favoring thier homegrounds, There is a near equal fight in Pune. "
   ]
  },
  {
   "cell_type": "markdown",
   "metadata": {},
   "source": [
    "##### <span style=\"color:orange;font:Calibri\">Top 10 batsman and bowlers</span>"
   ]
  },
  {
   "cell_type": "code",
   "execution_count": 21,
   "metadata": {},
   "outputs": [
    {
     "data": {
      "image/png": "[encoded data removed]",
      "text/plain": [
       "<Figure size 432x288 with 1 Axes>"
      ]
     },
     "metadata": {
      "needs_background": "light"
     },
     "output_type": "display_data"
    }
   ],
   "source": [
    "top_10_batsman = player_data.head(10).set_index('batsman')\n",
    "ax = top_10_batsman[['average','MOM Wins']].plot.bar()"
   ]
  },
  {
   "cell_type": "code",
   "execution_count": 22,
   "metadata": {
    "scrolled": true
   },
   "outputs": [
    {
     "data": {
      "image/png": "[encoded data removed]",
      "text/plain": [
       "<Figure size 432x288 with 1 Axes>"
      ]
     },
     "metadata": {
      "needs_background": "light"
     },
     "output_type": "display_data"
    }
   ],
   "source": [
    "ax = top_10_bowlers.set_index('bowler')[['average','MOM Wins']].plot.bar()"
   ]
  },
  {
   "cell_type": "markdown",
   "metadata": {},
   "source": [
    "### <span style=\"color:brown;font:Calibri\">2. Creating enhanced df_balls dataframe which also contains <b>match situation</b> data for each ball</span>"
   ]
  },
  {
   "cell_type": "markdown",
   "metadata": {},
   "source": [
    "##### <span style=\"color:brown;font:Calibri\">We need to add some columns like - Bowler data, Batsman data, Wickets Fallen, Score, Last Wicket Fallen Over, Average Total at venue </span>"
   ]
  },
  {
   "cell_type": "markdown",
   "metadata": {},
   "source": [
    "This task will be done using utility file which contains functions for readng match data and create situational columns. As this requires reading dataframe's previous rows we need to save and re-use this file."
   ]
  },
  {
   "cell_type": "code",
   "execution_count": 23,
   "metadata": {},
   "outputs": [],
   "source": [
    "# from ipl_utils import createBallsExtended\n",
    "# df_balls = createBallsExtended(df_balls)\n",
    "\n",
    "# # Saving the hard work\n",
    "# export_balls = df_balls.to_csv('df_balls.csv', index = None, header=True)"
   ]
  },
  {
   "cell_type": "markdown",
   "metadata": {},
   "source": [
    "The above step has been already executed and new file has been provided, importing the file in below step"
   ]
  },
  {
   "cell_type": "code",
   "execution_count": 24,
   "metadata": {
    "scrolled": false
   },
   "outputs": [
    {
     "data": {
      "text/html": [
       "<div>\n",
       "<style scoped>\n",
       "    .dataframe tbody tr th:only-of-type {\n",
       "        vertical-align: middle;\n",
       "    }\n",
       "\n",
       "    .dataframe tbody tr th {\n",
       "        vertical-align: top;\n",
       "    }\n",
       "\n",
       "    .dataframe thead th {\n",
       "        text-align: right;\n",
       "    }\n",
       "</style>\n",
       "<table border=\"1\" class=\"dataframe\">\n",
       "  <thead>\n",
       "    <tr style=\"text-align: right;\">\n",
       "      <th></th>\n",
       "      <th>match_id</th>\n",
       "      <th>inning</th>\n",
       "      <th>batting_team</th>\n",
       "      <th>bowling_team</th>\n",
       "      <th>over</th>\n",
       "      <th>ball</th>\n",
       "      <th>batsman</th>\n",
       "      <th>non_striker</th>\n",
       "      <th>bowler</th>\n",
       "      <th>is_super_over</th>\n",
       "      <th>...</th>\n",
       "      <th>dismissal_kind</th>\n",
       "      <th>fielder</th>\n",
       "      <th>bowler_runs_conceded</th>\n",
       "      <th>wickets_fallen</th>\n",
       "      <th>score</th>\n",
       "      <th>last_wicket_ball</th>\n",
       "      <th>striker_runs</th>\n",
       "      <th>non_striker_runs</th>\n",
       "      <th>bowler_match_runs</th>\n",
       "      <th>bowler_match_wickets</th>\n",
       "    </tr>\n",
       "  </thead>\n",
       "  <tbody>\n",
       "    <tr>\n",
       "      <th>0</th>\n",
       "      <td>1</td>\n",
       "      <td>1</td>\n",
       "      <td>Sunrisers Hyderabad</td>\n",
       "      <td>Royal Challengers Bangalore</td>\n",
       "      <td>1</td>\n",
       "      <td>1</td>\n",
       "      <td>DA Warner</td>\n",
       "      <td>S Dhawan</td>\n",
       "      <td>TS Mills</td>\n",
       "      <td>0</td>\n",
       "      <td>...</td>\n",
       "      <td>NaN</td>\n",
       "      <td>NaN</td>\n",
       "      <td>0</td>\n",
       "      <td>0</td>\n",
       "      <td>0</td>\n",
       "      <td>0.0</td>\n",
       "      <td>0</td>\n",
       "      <td>0</td>\n",
       "      <td>0</td>\n",
       "      <td>0</td>\n",
       "    </tr>\n",
       "    <tr>\n",
       "      <th>1</th>\n",
       "      <td>1</td>\n",
       "      <td>1</td>\n",
       "      <td>Sunrisers Hyderabad</td>\n",
       "      <td>Royal Challengers Bangalore</td>\n",
       "      <td>1</td>\n",
       "      <td>2</td>\n",
       "      <td>DA Warner</td>\n",
       "      <td>S Dhawan</td>\n",
       "      <td>TS Mills</td>\n",
       "      <td>0</td>\n",
       "      <td>...</td>\n",
       "      <td>NaN</td>\n",
       "      <td>NaN</td>\n",
       "      <td>0</td>\n",
       "      <td>0</td>\n",
       "      <td>0</td>\n",
       "      <td>0.0</td>\n",
       "      <td>0</td>\n",
       "      <td>0</td>\n",
       "      <td>0</td>\n",
       "      <td>0</td>\n",
       "    </tr>\n",
       "    <tr>\n",
       "      <th>2</th>\n",
       "      <td>1</td>\n",
       "      <td>1</td>\n",
       "      <td>Sunrisers Hyderabad</td>\n",
       "      <td>Royal Challengers Bangalore</td>\n",
       "      <td>1</td>\n",
       "      <td>3</td>\n",
       "      <td>DA Warner</td>\n",
       "      <td>S Dhawan</td>\n",
       "      <td>TS Mills</td>\n",
       "      <td>0</td>\n",
       "      <td>...</td>\n",
       "      <td>NaN</td>\n",
       "      <td>NaN</td>\n",
       "      <td>4</td>\n",
       "      <td>0</td>\n",
       "      <td>4</td>\n",
       "      <td>0.0</td>\n",
       "      <td>4</td>\n",
       "      <td>0</td>\n",
       "      <td>4</td>\n",
       "      <td>0</td>\n",
       "    </tr>\n",
       "    <tr>\n",
       "      <th>3</th>\n",
       "      <td>1</td>\n",
       "      <td>1</td>\n",
       "      <td>Sunrisers Hyderabad</td>\n",
       "      <td>Royal Challengers Bangalore</td>\n",
       "      <td>1</td>\n",
       "      <td>4</td>\n",
       "      <td>DA Warner</td>\n",
       "      <td>S Dhawan</td>\n",
       "      <td>TS Mills</td>\n",
       "      <td>0</td>\n",
       "      <td>...</td>\n",
       "      <td>NaN</td>\n",
       "      <td>NaN</td>\n",
       "      <td>0</td>\n",
       "      <td>0</td>\n",
       "      <td>4</td>\n",
       "      <td>0.0</td>\n",
       "      <td>4</td>\n",
       "      <td>0</td>\n",
       "      <td>4</td>\n",
       "      <td>0</td>\n",
       "    </tr>\n",
       "    <tr>\n",
       "      <th>4</th>\n",
       "      <td>1</td>\n",
       "      <td>1</td>\n",
       "      <td>Sunrisers Hyderabad</td>\n",
       "      <td>Royal Challengers Bangalore</td>\n",
       "      <td>1</td>\n",
       "      <td>5</td>\n",
       "      <td>DA Warner</td>\n",
       "      <td>S Dhawan</td>\n",
       "      <td>TS Mills</td>\n",
       "      <td>0</td>\n",
       "      <td>...</td>\n",
       "      <td>NaN</td>\n",
       "      <td>NaN</td>\n",
       "      <td>2</td>\n",
       "      <td>0</td>\n",
       "      <td>6</td>\n",
       "      <td>0.0</td>\n",
       "      <td>4</td>\n",
       "      <td>0</td>\n",
       "      <td>6</td>\n",
       "      <td>0</td>\n",
       "    </tr>\n",
       "  </tbody>\n",
       "</table>\n",
       "<p>5 rows × 29 columns</p>\n",
       "</div>"
      ],
      "text/plain": [
       "   match_id  inning         batting_team                 bowling_team  over  \\\n",
       "0         1       1  Sunrisers Hyderabad  Royal Challengers Bangalore     1   \n",
       "1         1       1  Sunrisers Hyderabad  Royal Challengers Bangalore     1   \n",
       "2         1       1  Sunrisers Hyderabad  Royal Challengers Bangalore     1   \n",
       "3         1       1  Sunrisers Hyderabad  Royal Challengers Bangalore     1   \n",
       "4         1       1  Sunrisers Hyderabad  Royal Challengers Bangalore     1   \n",
       "\n",
       "   ball    batsman non_striker    bowler  is_super_over  ...  dismissal_kind  \\\n",
       "0     1  DA Warner    S Dhawan  TS Mills              0  ...             NaN   \n",
       "1     2  DA Warner    S Dhawan  TS Mills              0  ...             NaN   \n",
       "2     3  DA Warner    S Dhawan  TS Mills              0  ...             NaN   \n",
       "3     4  DA Warner    S Dhawan  TS Mills              0  ...             NaN   \n",
       "4     5  DA Warner    S Dhawan  TS Mills              0  ...             NaN   \n",
       "\n",
       "   fielder  bowler_runs_conceded  wickets_fallen  score  last_wicket_ball  \\\n",
       "0      NaN                     0               0      0               0.0   \n",
       "1      NaN                     0               0      0               0.0   \n",
       "2      NaN                     4               0      4               0.0   \n",
       "3      NaN                     0               0      4               0.0   \n",
       "4      NaN                     2               0      6               0.0   \n",
       "\n",
       "   striker_runs  non_striker_runs bowler_match_runs bowler_match_wickets  \n",
       "0             0                 0                 0                    0  \n",
       "1             0                 0                 0                    0  \n",
       "2             4                 0                 4                    0  \n",
       "3             4                 0                 4                    0  \n",
       "4             4                 0                 6                    0  \n",
       "\n",
       "[5 rows x 29 columns]"
      ]
     },
     "execution_count": 24,
     "metadata": {},
     "output_type": "execute_result"
    }
   ],
   "source": [
    "df_balls = pd.read_csv('df_balls.csv',header=0)\n",
    "df_balls.head()"
   ]
  },
  {
   "cell_type": "code",
   "execution_count": 25,
   "metadata": {
    "scrolled": true
   },
   "outputs": [
    {
     "data": {
      "application/vnd.jupyter.widget-view+json": {
       "model_id": "4e720ea53d85434792ee9cffa67bbfb9",
       "version_major": 2,
       "version_minor": 0
      },
      "text/plain": [
       "Tab(children=(HTML(value='<div id=\"overview-content\" class=\"row variable spacing\">\\n    <div class=\"row\">\\n   …"
      ]
     },
     "metadata": {},
     "output_type": "display_data"
    },
    {
     "data": {
      "text/html": [
       "Report generated with <a href=\"https://github.com/pandas-profiling/pandas-profiling\">pandas-profiling</a>."
      ],
      "text/plain": [
       "<IPython.core.display.HTML object>"
      ]
     },
     "metadata": {},
     "output_type": "display_data"
    },
    {
     "data": {
      "text/plain": []
     },
     "execution_count": 25,
     "metadata": {},
     "output_type": "execute_result"
    }
   ],
   "source": [
    "profile = ProfileReport(df_balls, title='Pandas Profiling Report', html={'style':{'full_width':True}})\n",
    "profile"
   ]
  },
  {
   "cell_type": "code",
   "execution_count": 25,
   "metadata": {},
   "outputs": [],
   "source": [
    "df_balls['dismissal_kind'][df_balls['dismissal_kind'].isna()] = 'NA'\n",
    "df_balls['player_dismissed'][df_balls['player_dismissed'].isna()] = 'NA'\n",
    "df_balls['fielder'][df_balls['fielder'].isna()] = 'NA'"
   ]
  },
  {
   "cell_type": "markdown",
   "metadata": {},
   "source": [
    "## Predictions"
   ]
  },
  {
   "cell_type": "markdown",
   "metadata": {},
   "source": [
    "### <span style=\"color:green;font:Calibri\">3. Prediction of next ball. Dataframe df_balls_matches preparation start </span>"
   ]
  },
  {
   "cell_type": "code",
   "execution_count": 26,
   "metadata": {
    "scrolled": true
   },
   "outputs": [
    {
     "data": {
      "text/plain": [
       "Index(['match_id', 'inning', 'batting_team', 'bowling_team', 'over', 'ball',\n",
       "       'batsman', 'non_striker', 'bowler', 'is_super_over', 'wide_runs',\n",
       "       'bye_runs', 'legbye_runs', 'noball_runs', 'penalty_runs',\n",
       "       'batsman_runs', 'extra_runs', 'total_runs', 'player_dismissed',\n",
       "       'dismissal_kind', 'fielder', 'bowler_runs_conceded', 'wickets_fallen',\n",
       "       'score', 'last_wicket_ball', 'striker_runs', 'non_striker_runs',\n",
       "       'bowler_match_runs', 'bowler_match_wickets', 'id', 'season', 'city',\n",
       "       'date', 'team1', 'team2', 'toss_winner', 'toss_decision', 'result',\n",
       "       'dl_applied', 'winner', 'win_by_runs', 'win_by_wickets',\n",
       "       'player_of_match', 'venue', 'umpire1', 'umpire2', 'umpire3'],\n",
       "      dtype='object')"
      ]
     },
     "execution_count": 26,
     "metadata": {},
     "output_type": "execute_result"
    }
   ],
   "source": [
    "df_balls_matches = df_balls.merge(df_matches,left_on='match_id',right_on='id')\n",
    "df_balls_matches.columns"
   ]
  },
  {
   "cell_type": "code",
   "execution_count": 27,
   "metadata": {
    "scrolled": true
   },
   "outputs": [
    {
     "data": {
      "text/plain": [
       "Index(['match_id', 'inning', 'batting_team', 'bowling_team', 'over', 'ball',\n",
       "       'batsman', 'non_striker', 'bowler', 'is_super_over', 'wide_runs',\n",
       "       'bye_runs', 'legbye_runs', 'noball_runs', 'penalty_runs',\n",
       "       'batsman_runs', 'extra_runs', 'total_runs', 'player_dismissed',\n",
       "       'wickets_fallen', 'score', 'last_wicket_ball', 'striker_runs',\n",
       "       'non_striker_runs', 'bowler_match_runs', 'bowler_match_wickets', 'id',\n",
       "       'season', 'city', 'team1', 'team2', 'toss_winner', 'toss_decision',\n",
       "       'result', 'dl_applied', 'venue'],\n",
       "      dtype='object')"
      ]
     },
     "execution_count": 27,
     "metadata": {},
     "output_type": "execute_result"
    }
   ],
   "source": [
    "df_balls_matches = df_balls_matches.drop(['umpire1', 'umpire2', 'umpire3','date','dismissal_kind', 'fielder', \n",
    "                                          'bowler_runs_conceded','winner', 'win_by_runs', 'win_by_wickets',\n",
    "       'player_of_match'],axis=1)\n",
    "df_balls_matches.columns"
   ]
  },
  {
   "cell_type": "code",
   "execution_count": 28,
   "metadata": {
    "scrolled": true
   },
   "outputs": [
    {
     "data": {
      "text/html": [
       "<div>\n",
       "<style scoped>\n",
       "    .dataframe tbody tr th:only-of-type {\n",
       "        vertical-align: middle;\n",
       "    }\n",
       "\n",
       "    .dataframe tbody tr th {\n",
       "        vertical-align: top;\n",
       "    }\n",
       "\n",
       "    .dataframe thead th {\n",
       "        text-align: right;\n",
       "    }\n",
       "</style>\n",
       "<table border=\"1\" class=\"dataframe\">\n",
       "  <thead>\n",
       "    <tr style=\"text-align: right;\">\n",
       "      <th></th>\n",
       "      <th>bowler</th>\n",
       "      <th>wickets_taken</th>\n",
       "      <th>matches</th>\n",
       "      <th>bowler_runs_conceded</th>\n",
       "      <th>average</th>\n",
       "      <th>MOM Wins</th>\n",
       "      <th>balls_bowled</th>\n",
       "      <th>bowler_strk_rate</th>\n",
       "    </tr>\n",
       "  </thead>\n",
       "  <tbody>\n",
       "    <tr>\n",
       "      <th>0</th>\n",
       "      <td>A Chandila</td>\n",
       "      <td>11</td>\n",
       "      <td>12</td>\n",
       "      <td>242</td>\n",
       "      <td>22.000000</td>\n",
       "      <td>1</td>\n",
       "      <td>234</td>\n",
       "      <td>21.272727</td>\n",
       "    </tr>\n",
       "    <tr>\n",
       "      <th>1</th>\n",
       "      <td>A Joseph</td>\n",
       "      <td>6</td>\n",
       "      <td>3</td>\n",
       "      <td>92</td>\n",
       "      <td>15.333333</td>\n",
       "      <td>1</td>\n",
       "      <td>52</td>\n",
       "      <td>8.666667</td>\n",
       "    </tr>\n",
       "    <tr>\n",
       "      <th>2</th>\n",
       "      <td>A Kumble</td>\n",
       "      <td>45</td>\n",
       "      <td>42</td>\n",
       "      <td>1058</td>\n",
       "      <td>23.511111</td>\n",
       "      <td>3</td>\n",
       "      <td>965</td>\n",
       "      <td>21.444444</td>\n",
       "    </tr>\n",
       "    <tr>\n",
       "      <th>3</th>\n",
       "      <td>A Mishra</td>\n",
       "      <td>156</td>\n",
       "      <td>147</td>\n",
       "      <td>3804</td>\n",
       "      <td>24.384615</td>\n",
       "      <td>11</td>\n",
       "      <td>3102</td>\n",
       "      <td>19.884615</td>\n",
       "    </tr>\n",
       "    <tr>\n",
       "      <th>4</th>\n",
       "      <td>A Nehra</td>\n",
       "      <td>106</td>\n",
       "      <td>88</td>\n",
       "      <td>2495</td>\n",
       "      <td>23.537736</td>\n",
       "      <td>6</td>\n",
       "      <td>1908</td>\n",
       "      <td>18.000000</td>\n",
       "    </tr>\n",
       "  </tbody>\n",
       "</table>\n",
       "</div>"
      ],
      "text/plain": [
       "       bowler  wickets_taken  matches  bowler_runs_conceded    average  \\\n",
       "0  A Chandila             11       12                   242  22.000000   \n",
       "1    A Joseph              6        3                    92  15.333333   \n",
       "2    A Kumble             45       42                  1058  23.511111   \n",
       "3    A Mishra            156      147                  3804  24.384615   \n",
       "4     A Nehra            106       88                  2495  23.537736   \n",
       "\n",
       "   MOM Wins  balls_bowled  bowler_strk_rate  \n",
       "0         1           234         21.272727  \n",
       "1         1            52          8.666667  \n",
       "2         3           965         21.444444  \n",
       "3        11          3102         19.884615  \n",
       "4         6          1908         18.000000  "
      ]
     },
     "execution_count": 28,
     "metadata": {},
     "output_type": "execute_result"
    }
   ],
   "source": [
    "bowler_data.head()"
   ]
  },
  {
   "cell_type": "code",
   "execution_count": 29,
   "metadata": {
    "scrolled": true
   },
   "outputs": [
    {
     "data": {
      "text/html": [
       "<div>\n",
       "<style scoped>\n",
       "    .dataframe tbody tr th:only-of-type {\n",
       "        vertical-align: middle;\n",
       "    }\n",
       "\n",
       "    .dataframe tbody tr th {\n",
       "        vertical-align: top;\n",
       "    }\n",
       "\n",
       "    .dataframe thead th {\n",
       "        text-align: right;\n",
       "    }\n",
       "</style>\n",
       "<table border=\"1\" class=\"dataframe\">\n",
       "  <thead>\n",
       "    <tr style=\"text-align: right;\">\n",
       "      <th></th>\n",
       "      <th>match_id</th>\n",
       "      <th>inning</th>\n",
       "      <th>batting_team</th>\n",
       "      <th>bowling_team</th>\n",
       "      <th>over</th>\n",
       "      <th>ball</th>\n",
       "      <th>batsman</th>\n",
       "      <th>non_striker</th>\n",
       "      <th>bowler</th>\n",
       "      <th>is_super_over</th>\n",
       "      <th>...</th>\n",
       "      <th>result</th>\n",
       "      <th>dl_applied</th>\n",
       "      <th>venue</th>\n",
       "      <th>wickets_taken</th>\n",
       "      <th>matches</th>\n",
       "      <th>bowler_runs_conceded</th>\n",
       "      <th>bowling_average</th>\n",
       "      <th>MOM Wins</th>\n",
       "      <th>balls_bowled</th>\n",
       "      <th>bowler_strk_rate</th>\n",
       "    </tr>\n",
       "  </thead>\n",
       "  <tbody>\n",
       "    <tr>\n",
       "      <th>0</th>\n",
       "      <td>1</td>\n",
       "      <td>1</td>\n",
       "      <td>Sunrisers Hyderabad</td>\n",
       "      <td>Royal Challengers Bangalore</td>\n",
       "      <td>4</td>\n",
       "      <td>1</td>\n",
       "      <td>MC Henriques</td>\n",
       "      <td>S Dhawan</td>\n",
       "      <td>YS Chahal</td>\n",
       "      <td>0</td>\n",
       "      <td>...</td>\n",
       "      <td>normal</td>\n",
       "      <td>0</td>\n",
       "      <td>Rajiv Gandhi International Stadium, Uppal</td>\n",
       "      <td>100</td>\n",
       "      <td>83</td>\n",
       "      <td>2366</td>\n",
       "      <td>23.66</td>\n",
       "      <td>1</td>\n",
       "      <td>1788</td>\n",
       "      <td>17.88</td>\n",
       "    </tr>\n",
       "    <tr>\n",
       "      <th>1</th>\n",
       "      <td>1</td>\n",
       "      <td>1</td>\n",
       "      <td>Sunrisers Hyderabad</td>\n",
       "      <td>Royal Challengers Bangalore</td>\n",
       "      <td>4</td>\n",
       "      <td>2</td>\n",
       "      <td>MC Henriques</td>\n",
       "      <td>S Dhawan</td>\n",
       "      <td>YS Chahal</td>\n",
       "      <td>0</td>\n",
       "      <td>...</td>\n",
       "      <td>normal</td>\n",
       "      <td>0</td>\n",
       "      <td>Rajiv Gandhi International Stadium, Uppal</td>\n",
       "      <td>100</td>\n",
       "      <td>83</td>\n",
       "      <td>2366</td>\n",
       "      <td>23.66</td>\n",
       "      <td>1</td>\n",
       "      <td>1788</td>\n",
       "      <td>17.88</td>\n",
       "    </tr>\n",
       "    <tr>\n",
       "      <th>2</th>\n",
       "      <td>1</td>\n",
       "      <td>1</td>\n",
       "      <td>Sunrisers Hyderabad</td>\n",
       "      <td>Royal Challengers Bangalore</td>\n",
       "      <td>4</td>\n",
       "      <td>3</td>\n",
       "      <td>S Dhawan</td>\n",
       "      <td>MC Henriques</td>\n",
       "      <td>YS Chahal</td>\n",
       "      <td>0</td>\n",
       "      <td>...</td>\n",
       "      <td>normal</td>\n",
       "      <td>0</td>\n",
       "      <td>Rajiv Gandhi International Stadium, Uppal</td>\n",
       "      <td>100</td>\n",
       "      <td>83</td>\n",
       "      <td>2366</td>\n",
       "      <td>23.66</td>\n",
       "      <td>1</td>\n",
       "      <td>1788</td>\n",
       "      <td>17.88</td>\n",
       "    </tr>\n",
       "    <tr>\n",
       "      <th>3</th>\n",
       "      <td>1</td>\n",
       "      <td>1</td>\n",
       "      <td>Sunrisers Hyderabad</td>\n",
       "      <td>Royal Challengers Bangalore</td>\n",
       "      <td>4</td>\n",
       "      <td>4</td>\n",
       "      <td>S Dhawan</td>\n",
       "      <td>MC Henriques</td>\n",
       "      <td>YS Chahal</td>\n",
       "      <td>0</td>\n",
       "      <td>...</td>\n",
       "      <td>normal</td>\n",
       "      <td>0</td>\n",
       "      <td>Rajiv Gandhi International Stadium, Uppal</td>\n",
       "      <td>100</td>\n",
       "      <td>83</td>\n",
       "      <td>2366</td>\n",
       "      <td>23.66</td>\n",
       "      <td>1</td>\n",
       "      <td>1788</td>\n",
       "      <td>17.88</td>\n",
       "    </tr>\n",
       "    <tr>\n",
       "      <th>4</th>\n",
       "      <td>1</td>\n",
       "      <td>1</td>\n",
       "      <td>Sunrisers Hyderabad</td>\n",
       "      <td>Royal Challengers Bangalore</td>\n",
       "      <td>4</td>\n",
       "      <td>5</td>\n",
       "      <td>MC Henriques</td>\n",
       "      <td>S Dhawan</td>\n",
       "      <td>YS Chahal</td>\n",
       "      <td>0</td>\n",
       "      <td>...</td>\n",
       "      <td>normal</td>\n",
       "      <td>0</td>\n",
       "      <td>Rajiv Gandhi International Stadium, Uppal</td>\n",
       "      <td>100</td>\n",
       "      <td>83</td>\n",
       "      <td>2366</td>\n",
       "      <td>23.66</td>\n",
       "      <td>1</td>\n",
       "      <td>1788</td>\n",
       "      <td>17.88</td>\n",
       "    </tr>\n",
       "  </tbody>\n",
       "</table>\n",
       "<p>5 rows × 43 columns</p>\n",
       "</div>"
      ],
      "text/plain": [
       "   match_id  inning         batting_team                 bowling_team  over  \\\n",
       "0         1       1  Sunrisers Hyderabad  Royal Challengers Bangalore     4   \n",
       "1         1       1  Sunrisers Hyderabad  Royal Challengers Bangalore     4   \n",
       "2         1       1  Sunrisers Hyderabad  Royal Challengers Bangalore     4   \n",
       "3         1       1  Sunrisers Hyderabad  Royal Challengers Bangalore     4   \n",
       "4         1       1  Sunrisers Hyderabad  Royal Challengers Bangalore     4   \n",
       "\n",
       "   ball       batsman   non_striker     bowler  is_super_over  ...  result  \\\n",
       "0     1  MC Henriques      S Dhawan  YS Chahal              0  ...  normal   \n",
       "1     2  MC Henriques      S Dhawan  YS Chahal              0  ...  normal   \n",
       "2     3      S Dhawan  MC Henriques  YS Chahal              0  ...  normal   \n",
       "3     4      S Dhawan  MC Henriques  YS Chahal              0  ...  normal   \n",
       "4     5  MC Henriques      S Dhawan  YS Chahal              0  ...  normal   \n",
       "\n",
       "   dl_applied                                      venue  wickets_taken  \\\n",
       "0           0  Rajiv Gandhi International Stadium, Uppal            100   \n",
       "1           0  Rajiv Gandhi International Stadium, Uppal            100   \n",
       "2           0  Rajiv Gandhi International Stadium, Uppal            100   \n",
       "3           0  Rajiv Gandhi International Stadium, Uppal            100   \n",
       "4           0  Rajiv Gandhi International Stadium, Uppal            100   \n",
       "\n",
       "   matches  bowler_runs_conceded  bowling_average  MOM Wins balls_bowled  \\\n",
       "0       83                  2366            23.66         1         1788   \n",
       "1       83                  2366            23.66         1         1788   \n",
       "2       83                  2366            23.66         1         1788   \n",
       "3       83                  2366            23.66         1         1788   \n",
       "4       83                  2366            23.66         1         1788   \n",
       "\n",
       "   bowler_strk_rate  \n",
       "0             17.88  \n",
       "1             17.88  \n",
       "2             17.88  \n",
       "3             17.88  \n",
       "4             17.88  \n",
       "\n",
       "[5 rows x 43 columns]"
      ]
     },
     "execution_count": 29,
     "metadata": {},
     "output_type": "execute_result"
    }
   ],
   "source": [
    "df_balls_matches = df_balls_matches.merge(bowler_data.rename(columns={'average':'bowling_average'}),on='bowler')\n",
    "df_balls_matches.head()"
   ]
  },
  {
   "cell_type": "code",
   "execution_count": 30,
   "metadata": {
    "scrolled": true
   },
   "outputs": [
    {
     "data": {
      "text/html": [
       "<div>\n",
       "<style scoped>\n",
       "    .dataframe tbody tr th:only-of-type {\n",
       "        vertical-align: middle;\n",
       "    }\n",
       "\n",
       "    .dataframe tbody tr th {\n",
       "        vertical-align: top;\n",
       "    }\n",
       "\n",
       "    .dataframe thead th {\n",
       "        text-align: right;\n",
       "    }\n",
       "</style>\n",
       "<table border=\"1\" class=\"dataframe\">\n",
       "  <thead>\n",
       "    <tr style=\"text-align: right;\">\n",
       "      <th></th>\n",
       "      <th>batsman</th>\n",
       "      <th>batsman_runs</th>\n",
       "      <th>matches</th>\n",
       "      <th>MOM Wins</th>\n",
       "      <th>average</th>\n",
       "      <th>balls_faced</th>\n",
       "      <th>strk_rate</th>\n",
       "    </tr>\n",
       "  </thead>\n",
       "  <tbody>\n",
       "    <tr>\n",
       "      <th>0</th>\n",
       "      <td>V Kohli</td>\n",
       "      <td>5434</td>\n",
       "      <td>169</td>\n",
       "      <td>12</td>\n",
       "      <td>32.153846</td>\n",
       "      <td>4114</td>\n",
       "      <td>132.085561</td>\n",
       "    </tr>\n",
       "    <tr>\n",
       "      <th>1</th>\n",
       "      <td>SK Raina</td>\n",
       "      <td>5415</td>\n",
       "      <td>189</td>\n",
       "      <td>14</td>\n",
       "      <td>28.650794</td>\n",
       "      <td>3917</td>\n",
       "      <td>138.243554</td>\n",
       "    </tr>\n",
       "    <tr>\n",
       "      <th>2</th>\n",
       "      <td>RG Sharma</td>\n",
       "      <td>4914</td>\n",
       "      <td>182</td>\n",
       "      <td>17</td>\n",
       "      <td>27.000000</td>\n",
       "      <td>3744</td>\n",
       "      <td>131.250000</td>\n",
       "    </tr>\n",
       "    <tr>\n",
       "      <th>3</th>\n",
       "      <td>DA Warner</td>\n",
       "      <td>4741</td>\n",
       "      <td>126</td>\n",
       "      <td>17</td>\n",
       "      <td>37.626984</td>\n",
       "      <td>3306</td>\n",
       "      <td>143.405929</td>\n",
       "    </tr>\n",
       "    <tr>\n",
       "      <th>4</th>\n",
       "      <td>S Dhawan</td>\n",
       "      <td>4632</td>\n",
       "      <td>158</td>\n",
       "      <td>6</td>\n",
       "      <td>29.316456</td>\n",
       "      <td>3671</td>\n",
       "      <td>126.178153</td>\n",
       "    </tr>\n",
       "  </tbody>\n",
       "</table>\n",
       "</div>"
      ],
      "text/plain": [
       "     batsman  batsman_runs  matches  MOM Wins    average  balls_faced  \\\n",
       "0    V Kohli          5434      169        12  32.153846         4114   \n",
       "1   SK Raina          5415      189        14  28.650794         3917   \n",
       "2  RG Sharma          4914      182        17  27.000000         3744   \n",
       "3  DA Warner          4741      126        17  37.626984         3306   \n",
       "4   S Dhawan          4632      158         6  29.316456         3671   \n",
       "\n",
       "    strk_rate  \n",
       "0  132.085561  \n",
       "1  138.243554  \n",
       "2  131.250000  \n",
       "3  143.405929  \n",
       "4  126.178153  "
      ]
     },
     "execution_count": 30,
     "metadata": {},
     "output_type": "execute_result"
    }
   ],
   "source": [
    "player_data.head()"
   ]
  },
  {
   "cell_type": "code",
   "execution_count": 31,
   "metadata": {
    "scrolled": false
   },
   "outputs": [
    {
     "data": {
      "text/plain": [
       "Index(['match_id', 'inning', 'batting_team', 'bowling_team', 'over', 'ball',\n",
       "       'batsman', 'non_striker', 'bowler', 'is_super_over', 'wide_runs',\n",
       "       'bye_runs', 'legbye_runs', 'noball_runs', 'penalty_runs',\n",
       "       'batsman_runs_x', 'extra_runs', 'total_runs', 'player_dismissed',\n",
       "       'wickets_fallen', 'score', 'last_wicket_ball', 'striker_runs',\n",
       "       'non_striker_runs', 'bowler_match_runs', 'bowler_match_wickets', 'id',\n",
       "       'season', 'city', 'team1', 'team2', 'toss_winner', 'toss_decision',\n",
       "       'result', 'dl_applied', 'venue', 'wickets_taken', 'matches_x',\n",
       "       'bowler_runs_conceded', 'bowling_average', 'MOM Wins_x', 'balls_bowled',\n",
       "       'bowler_strk_rate', 'batsman_runs_y', 'matches_y', 'MOM Wins_y',\n",
       "       'batting_average', 'balls_faced', 'strk_rate'],\n",
       "      dtype='object')"
      ]
     },
     "execution_count": 31,
     "metadata": {},
     "output_type": "execute_result"
    }
   ],
   "source": [
    "df_balls_matches = df_balls_matches.merge(player_data.rename(columns={'average':'batting_average'}),on='batsman')\n",
    "df_balls_matches.columns"
   ]
  },
  {
   "cell_type": "code",
   "execution_count": 32,
   "metadata": {
    "scrolled": true
   },
   "outputs": [
    {
     "data": {
      "text/plain": [
       "array([ 0,  1,  2,  6,  4,  5,  3, 10,  8,  7], dtype=int64)"
      ]
     },
     "execution_count": 32,
     "metadata": {},
     "output_type": "execute_result"
    }
   ],
   "source": [
    "df_balls_matches['total_runs'].unique()"
   ]
  },
  {
   "cell_type": "code",
   "execution_count": 33,
   "metadata": {
    "scrolled": true
   },
   "outputs": [
    {
     "data": {
      "text/plain": [
       "(123040, 49)"
      ]
     },
     "execution_count": 33,
     "metadata": {},
     "output_type": "execute_result"
    }
   ],
   "source": [
    "df_balls_matches.shape"
   ]
  },
  {
   "cell_type": "markdown",
   "metadata": {},
   "source": [
    "<span style=\"color:green\">Adding column result to join runs and wickets for that ball - O for out, NO for not out + total runs on that ball. This can become target variable for each ball prediction.</span>"
   ]
  },
  {
   "cell_type": "code",
   "execution_count": 34,
   "metadata": {},
   "outputs": [],
   "source": [
    "df_balls_matches['result'] = np.where(df_balls_matches['player_dismissed'] != 'NA', 'O', 'NO')"
   ]
  },
  {
   "cell_type": "code",
   "execution_count": 35,
   "metadata": {},
   "outputs": [],
   "source": [
    "df_balls_matches['result'] += df_balls_matches['total_runs'].astype(str)"
   ]
  },
  {
   "cell_type": "code",
   "execution_count": 36,
   "metadata": {
    "scrolled": true
   },
   "outputs": [
    {
     "data": {
      "text/plain": [
       "NO1     50181\n",
       "NO0     37659\n",
       "NO4     14099\n",
       "NO2      8903\n",
       "O0       5713\n",
       "NO6      5522\n",
       "NO3       450\n",
       "NO5       224\n",
       "O1        201\n",
       "NO8        46\n",
       "NO7        24\n",
       "NO10        9\n",
       "O2          7\n",
       "O6          1\n",
       "O4          1\n",
       "Name: result, dtype: int64"
      ]
     },
     "execution_count": 36,
     "metadata": {},
     "output_type": "execute_result"
    }
   ],
   "source": [
    "df_balls_matches['result'].value_counts()"
   ]
  },
  {
   "cell_type": "markdown",
   "metadata": {},
   "source": [
    "#### <span style=\"color:green;font:Calibri\">3. a. Removing outliers</span>"
   ]
  },
  {
   "cell_type": "code",
   "execution_count": 37,
   "metadata": {},
   "outputs": [],
   "source": [
    "df_balls_matches = df_balls_matches[~df_balls_matches['result'].isin(['NO7','NO8','NO10','O6','O4','O2'])]"
   ]
  },
  {
   "cell_type": "markdown",
   "metadata": {},
   "source": [
    "#### <span style=\"color:green;font:Calibri\">3. b. Adding columns 'venue_average'</span>"
   ]
  },
  {
   "cell_type": "code",
   "execution_count": 38,
   "metadata": {},
   "outputs": [
    {
     "data": {
      "text/html": [
       "<div>\n",
       "<style scoped>\n",
       "    .dataframe tbody tr th:only-of-type {\n",
       "        vertical-align: middle;\n",
       "    }\n",
       "\n",
       "    .dataframe tbody tr th {\n",
       "        vertical-align: top;\n",
       "    }\n",
       "\n",
       "    .dataframe thead th {\n",
       "        text-align: right;\n",
       "    }\n",
       "</style>\n",
       "<table border=\"1\" class=\"dataframe\">\n",
       "  <thead>\n",
       "    <tr style=\"text-align: right;\">\n",
       "      <th></th>\n",
       "      <th>venue</th>\n",
       "      <th>venue_runs_inone</th>\n",
       "      <th>venue_matches</th>\n",
       "      <th>venue_runs_intwo</th>\n",
       "    </tr>\n",
       "  </thead>\n",
       "  <tbody>\n",
       "    <tr>\n",
       "      <th>0</th>\n",
       "      <td>ACA-VDCA Stadium</td>\n",
       "      <td>171</td>\n",
       "      <td>2</td>\n",
       "      <td>234</td>\n",
       "    </tr>\n",
       "    <tr>\n",
       "      <th>1</th>\n",
       "      <td>Barabati Stadium</td>\n",
       "      <td>961</td>\n",
       "      <td>7</td>\n",
       "      <td>823</td>\n",
       "    </tr>\n",
       "    <tr>\n",
       "      <th>2</th>\n",
       "      <td>Brabourne Stadium</td>\n",
       "      <td>1455</td>\n",
       "      <td>11</td>\n",
       "      <td>1297</td>\n",
       "    </tr>\n",
       "    <tr>\n",
       "      <th>3</th>\n",
       "      <td>Buffalo Park</td>\n",
       "      <td>346</td>\n",
       "      <td>3</td>\n",
       "      <td>219</td>\n",
       "    </tr>\n",
       "    <tr>\n",
       "      <th>4</th>\n",
       "      <td>De Beers Diamond Oval</td>\n",
       "      <td>358</td>\n",
       "      <td>3</td>\n",
       "      <td>360</td>\n",
       "    </tr>\n",
       "    <tr>\n",
       "      <th>5</th>\n",
       "      <td>Dr DY Patil Sports Academy</td>\n",
       "      <td>1459</td>\n",
       "      <td>17</td>\n",
       "      <td>1606</td>\n",
       "    </tr>\n",
       "    <tr>\n",
       "      <th>6</th>\n",
       "      <td>Dr. Y.S. Rajasekhara Reddy ACA-VDCA Cricket St...</td>\n",
       "      <td>1304</td>\n",
       "      <td>11</td>\n",
       "      <td>1001</td>\n",
       "    </tr>\n",
       "    <tr>\n",
       "      <th>7</th>\n",
       "      <td>Dubai International Cricket Stadium</td>\n",
       "      <td>888</td>\n",
       "      <td>7</td>\n",
       "      <td>864</td>\n",
       "    </tr>\n",
       "    <tr>\n",
       "      <th>8</th>\n",
       "      <td>Eden Gardens</td>\n",
       "      <td>8657</td>\n",
       "      <td>77</td>\n",
       "      <td>8273</td>\n",
       "    </tr>\n",
       "    <tr>\n",
       "      <th>9</th>\n",
       "      <td>Feroz Shah Kotla</td>\n",
       "      <td>7329</td>\n",
       "      <td>67</td>\n",
       "      <td>6610</td>\n",
       "    </tr>\n",
       "  </tbody>\n",
       "</table>\n",
       "</div>"
      ],
      "text/plain": [
       "                                               venue  venue_runs_inone  \\\n",
       "0                                   ACA-VDCA Stadium               171   \n",
       "1                                   Barabati Stadium               961   \n",
       "2                                  Brabourne Stadium              1455   \n",
       "3                                       Buffalo Park               346   \n",
       "4                              De Beers Diamond Oval               358   \n",
       "5                         Dr DY Patil Sports Academy              1459   \n",
       "6  Dr. Y.S. Rajasekhara Reddy ACA-VDCA Cricket St...              1304   \n",
       "7                Dubai International Cricket Stadium               888   \n",
       "8                                       Eden Gardens              8657   \n",
       "9                                   Feroz Shah Kotla              7329   \n",
       "\n",
       "   venue_matches  venue_runs_intwo  \n",
       "0              2               234  \n",
       "1              7               823  \n",
       "2             11              1297  \n",
       "3              3               219  \n",
       "4              3               360  \n",
       "5             17              1606  \n",
       "6             11              1001  \n",
       "7              7               864  \n",
       "8             77              8273  \n",
       "9             67              6610  "
      ]
     },
     "execution_count": 38,
     "metadata": {},
     "output_type": "execute_result"
    }
   ],
   "source": [
    "venue_totals_inone = df_balls_matches[df_balls_matches['inning'] == 1].groupby('venue',as_index=False)['total_runs'].sum()\n",
    "venue_totals_intwo = df_balls_matches[df_balls_matches['inning'] == 2].groupby('venue',as_index=False)['total_runs'].sum()\n",
    "venue_matches = df_balls_matches.groupby('venue',as_index=False).agg({'match_id': pd.Series.nunique})\n",
    "venue_totals = venue_totals_inone.merge(venue_matches,on='venue')\n",
    "venue_totals.rename(columns={'match_id':'venue_matches','total_runs':'venue_runs_inone'},inplace=True)\n",
    "venue_totals = venue_totals.merge(venue_totals_intwo,on='venue')\n",
    "venue_totals.rename(columns={'total_runs':'venue_runs_intwo'},inplace=True)\n",
    "venue_totals.head(10)"
   ]
  },
  {
   "cell_type": "code",
   "execution_count": 39,
   "metadata": {
    "scrolled": true
   },
   "outputs": [
    {
     "data": {
      "text/html": [
       "<div>\n",
       "<style scoped>\n",
       "    .dataframe tbody tr th:only-of-type {\n",
       "        vertical-align: middle;\n",
       "    }\n",
       "\n",
       "    .dataframe tbody tr th {\n",
       "        vertical-align: top;\n",
       "    }\n",
       "\n",
       "    .dataframe thead th {\n",
       "        text-align: right;\n",
       "    }\n",
       "</style>\n",
       "<table border=\"1\" class=\"dataframe\">\n",
       "  <thead>\n",
       "    <tr style=\"text-align: right;\">\n",
       "      <th></th>\n",
       "      <th>venue</th>\n",
       "      <th>venue_runs_inone</th>\n",
       "      <th>venue_matches</th>\n",
       "      <th>venue_runs_intwo</th>\n",
       "      <th>inning_one_average_total</th>\n",
       "      <th>inning_two_average_total</th>\n",
       "    </tr>\n",
       "  </thead>\n",
       "  <tbody>\n",
       "    <tr>\n",
       "      <th>0</th>\n",
       "      <td>ACA-VDCA Stadium</td>\n",
       "      <td>171</td>\n",
       "      <td>2</td>\n",
       "      <td>234</td>\n",
       "      <td>85.500000</td>\n",
       "      <td>117.000000</td>\n",
       "    </tr>\n",
       "    <tr>\n",
       "      <th>1</th>\n",
       "      <td>Barabati Stadium</td>\n",
       "      <td>961</td>\n",
       "      <td>7</td>\n",
       "      <td>823</td>\n",
       "      <td>137.285714</td>\n",
       "      <td>117.571429</td>\n",
       "    </tr>\n",
       "    <tr>\n",
       "      <th>2</th>\n",
       "      <td>Brabourne Stadium</td>\n",
       "      <td>1455</td>\n",
       "      <td>11</td>\n",
       "      <td>1297</td>\n",
       "      <td>132.272727</td>\n",
       "      <td>117.909091</td>\n",
       "    </tr>\n",
       "    <tr>\n",
       "      <th>3</th>\n",
       "      <td>Buffalo Park</td>\n",
       "      <td>346</td>\n",
       "      <td>3</td>\n",
       "      <td>219</td>\n",
       "      <td>115.333333</td>\n",
       "      <td>73.000000</td>\n",
       "    </tr>\n",
       "    <tr>\n",
       "      <th>4</th>\n",
       "      <td>De Beers Diamond Oval</td>\n",
       "      <td>358</td>\n",
       "      <td>3</td>\n",
       "      <td>360</td>\n",
       "      <td>119.333333</td>\n",
       "      <td>120.000000</td>\n",
       "    </tr>\n",
       "  </tbody>\n",
       "</table>\n",
       "</div>"
      ],
      "text/plain": [
       "                   venue  venue_runs_inone  venue_matches  venue_runs_intwo  \\\n",
       "0       ACA-VDCA Stadium               171              2               234   \n",
       "1       Barabati Stadium               961              7               823   \n",
       "2      Brabourne Stadium              1455             11              1297   \n",
       "3           Buffalo Park               346              3               219   \n",
       "4  De Beers Diamond Oval               358              3               360   \n",
       "\n",
       "   inning_one_average_total  inning_two_average_total  \n",
       "0                 85.500000                117.000000  \n",
       "1                137.285714                117.571429  \n",
       "2                132.272727                117.909091  \n",
       "3                115.333333                 73.000000  \n",
       "4                119.333333                120.000000  "
      ]
     },
     "execution_count": 39,
     "metadata": {},
     "output_type": "execute_result"
    }
   ],
   "source": [
    "venue_totals['inning_one_average_total'] = venue_totals['venue_runs_inone']/venue_totals['venue_matches']\n",
    "venue_totals['inning_two_average_total'] = venue_totals['venue_runs_intwo']/venue_totals['venue_matches']\n",
    "venue_totals.sort_values(by='inning_one_average_total',ascending=False)\n",
    "venue_totals.head()"
   ]
  },
  {
   "cell_type": "code",
   "execution_count": 40,
   "metadata": {},
   "outputs": [],
   "source": [
    "df_balls_matches = df_balls_matches.merge(venue_totals,on='venue')"
   ]
  },
  {
   "cell_type": "code",
   "execution_count": 41,
   "metadata": {},
   "outputs": [
    {
     "data": {
      "text/plain": [
       "Index(['match_id', 'inning', 'over', 'ball', 'batsman', 'non_striker',\n",
       "       'bowler', 'is_super_over', 'wickets_fallen', 'score',\n",
       "       'last_wicket_ball', 'striker_runs', 'non_striker_runs',\n",
       "       'bowler_match_runs', 'bowler_match_wickets', 'id', 'season', 'city',\n",
       "       'team1', 'team2', 'toss_winner', 'toss_decision', 'result',\n",
       "       'dl_applied', 'venue', 'wickets_taken', 'matches_x',\n",
       "       'bowler_runs_conceded', 'bowling_average', 'MOM Wins_x', 'balls_bowled',\n",
       "       'bowler_strk_rate', 'matches_y', 'MOM Wins_y', 'batting_average',\n",
       "       'balls_faced', 'strk_rate', 'venue_runs_inone', 'venue_matches',\n",
       "       'venue_runs_intwo', 'inning_one_average_total',\n",
       "       'inning_two_average_total'],\n",
       "      dtype='object')"
      ]
     },
     "execution_count": 41,
     "metadata": {},
     "output_type": "execute_result"
    }
   ],
   "source": [
    "df_balls_matches = df_balls_matches.drop(['batting_team', 'bowling_team','wide_runs', 'bye_runs', 'legbye_runs',\n",
    "       'noball_runs', 'penalty_runs', 'batsman_runs_x','batsman_runs_y', 'extra_runs','player_dismissed',\n",
    "       'total_runs'],axis=1)\n",
    "df_balls_matches.columns"
   ]
  },
  {
   "cell_type": "code",
   "execution_count": 42,
   "metadata": {
    "scrolled": true
   },
   "outputs": [
    {
     "data": {
      "text/plain": [
       "array(['Hyderabad', 'Bangalore/Bengaluru', 'Jaipur', 'Ahmedabad',\n",
       "       'Mumbai', 'Durban', 'Pune', 'Visakhapatnam', 'Ranchi', 'Kolkata',\n",
       "       'Delhi', 'Kanpur', 'Chandigarh', 'Mohali', 'Raipur',\n",
       "       'Johannesburg', 'Cuttack', 'Cape Town', 'Chennai', 'Abu Dhabi',\n",
       "       'Dharamsala', 'Rajkot', 'Sharjah', 'nocity', 'Port Elizabeth',\n",
       "       'Kochi', 'Bloemfontein', 'Indore', 'Centurion', 'Kimberley',\n",
       "       'East London', 'Nagpur'], dtype=object)"
      ]
     },
     "execution_count": 42,
     "metadata": {},
     "output_type": "execute_result"
    }
   ],
   "source": [
    "df_balls_matches['city'] = np.where(df_balls_matches['city'].isna(), 'nocity',df_balls_matches['city'])\n",
    "df_balls_matches['city'].unique()"
   ]
  },
  {
   "cell_type": "code",
   "execution_count": 43,
   "metadata": {
    "scrolled": true
   },
   "outputs": [
    {
     "data": {
      "text/plain": [
       "Index(['match_id', 'inning', 'over', 'ball', 'batsman', 'non_striker',\n",
       "       'bowler', 'is_super_over', 'wickets_fallen', 'score',\n",
       "       'last_wicket_ball', 'striker_runs', 'non_striker_runs',\n",
       "       'bowler_match_runs', 'bowler_match_wickets', 'id', 'season', 'city',\n",
       "       'team1', 'team2', 'toss_winner', 'toss_decision', 'result',\n",
       "       'dl_applied', 'venue', 'wickets_taken', 'matches_x',\n",
       "       'bowler_runs_conceded', 'bowling_average', 'MOM Wins_x', 'balls_bowled',\n",
       "       'bowler_strk_rate', 'matches_y', 'MOM Wins_y', 'batting_average',\n",
       "       'balls_faced', 'strk_rate', 'venue_runs_inone', 'venue_matches',\n",
       "       'venue_runs_intwo', 'inning_one_average_total',\n",
       "       'inning_two_average_total'],\n",
       "      dtype='object')"
      ]
     },
     "execution_count": 43,
     "metadata": {},
     "output_type": "execute_result"
    }
   ],
   "source": [
    "df_balls_matches.columns"
   ]
  },
  {
   "cell_type": "markdown",
   "metadata": {},
   "source": [
    "### Label encoding category feaatures"
   ]
  },
  {
   "cell_type": "code",
   "execution_count": 44,
   "metadata": {
    "scrolled": true
   },
   "outputs": [
    {
     "data": {
      "text/html": [
       "<div>\n",
       "<style scoped>\n",
       "    .dataframe tbody tr th:only-of-type {\n",
       "        vertical-align: middle;\n",
       "    }\n",
       "\n",
       "    .dataframe tbody tr th {\n",
       "        vertical-align: top;\n",
       "    }\n",
       "\n",
       "    .dataframe thead th {\n",
       "        text-align: right;\n",
       "    }\n",
       "</style>\n",
       "<table border=\"1\" class=\"dataframe\">\n",
       "  <thead>\n",
       "    <tr style=\"text-align: right;\">\n",
       "      <th></th>\n",
       "      <th>match_id</th>\n",
       "      <th>inning</th>\n",
       "      <th>over</th>\n",
       "      <th>ball</th>\n",
       "      <th>batsman</th>\n",
       "      <th>non_striker</th>\n",
       "      <th>bowler</th>\n",
       "      <th>is_super_over</th>\n",
       "      <th>wickets_fallen</th>\n",
       "      <th>score</th>\n",
       "      <th>...</th>\n",
       "      <th>matches_y</th>\n",
       "      <th>MOM Wins_y</th>\n",
       "      <th>batting_average</th>\n",
       "      <th>balls_faced</th>\n",
       "      <th>strk_rate</th>\n",
       "      <th>venue_runs_inone</th>\n",
       "      <th>venue_matches</th>\n",
       "      <th>venue_runs_intwo</th>\n",
       "      <th>inning_one_average_total</th>\n",
       "      <th>inning_two_average_total</th>\n",
       "    </tr>\n",
       "  </thead>\n",
       "  <tbody>\n",
       "    <tr>\n",
       "      <th>0</th>\n",
       "      <td>1</td>\n",
       "      <td>1</td>\n",
       "      <td>4</td>\n",
       "      <td>1</td>\n",
       "      <td>MC Henriques</td>\n",
       "      <td>S Dhawan</td>\n",
       "      <td>YS Chahal</td>\n",
       "      <td>0</td>\n",
       "      <td>1</td>\n",
       "      <td>29</td>\n",
       "      <td>...</td>\n",
       "      <td>50</td>\n",
       "      <td>2</td>\n",
       "      <td>19.38</td>\n",
       "      <td>756</td>\n",
       "      <td>128.174603</td>\n",
       "      <td>5405</td>\n",
       "      <td>56</td>\n",
       "      <td>5296</td>\n",
       "      <td>96.517857</td>\n",
       "      <td>94.571429</td>\n",
       "    </tr>\n",
       "    <tr>\n",
       "      <th>1</th>\n",
       "      <td>1</td>\n",
       "      <td>1</td>\n",
       "      <td>4</td>\n",
       "      <td>2</td>\n",
       "      <td>MC Henriques</td>\n",
       "      <td>S Dhawan</td>\n",
       "      <td>YS Chahal</td>\n",
       "      <td>0</td>\n",
       "      <td>1</td>\n",
       "      <td>30</td>\n",
       "      <td>...</td>\n",
       "      <td>50</td>\n",
       "      <td>2</td>\n",
       "      <td>19.38</td>\n",
       "      <td>756</td>\n",
       "      <td>128.174603</td>\n",
       "      <td>5405</td>\n",
       "      <td>56</td>\n",
       "      <td>5296</td>\n",
       "      <td>96.517857</td>\n",
       "      <td>94.571429</td>\n",
       "    </tr>\n",
       "    <tr>\n",
       "      <th>2</th>\n",
       "      <td>1</td>\n",
       "      <td>1</td>\n",
       "      <td>4</td>\n",
       "      <td>5</td>\n",
       "      <td>MC Henriques</td>\n",
       "      <td>S Dhawan</td>\n",
       "      <td>YS Chahal</td>\n",
       "      <td>0</td>\n",
       "      <td>1</td>\n",
       "      <td>32</td>\n",
       "      <td>...</td>\n",
       "      <td>50</td>\n",
       "      <td>2</td>\n",
       "      <td>19.38</td>\n",
       "      <td>756</td>\n",
       "      <td>128.174603</td>\n",
       "      <td>5405</td>\n",
       "      <td>56</td>\n",
       "      <td>5296</td>\n",
       "      <td>96.517857</td>\n",
       "      <td>94.571429</td>\n",
       "    </tr>\n",
       "    <tr>\n",
       "      <th>3</th>\n",
       "      <td>1</td>\n",
       "      <td>1</td>\n",
       "      <td>7</td>\n",
       "      <td>2</td>\n",
       "      <td>MC Henriques</td>\n",
       "      <td>S Dhawan</td>\n",
       "      <td>YS Chahal</td>\n",
       "      <td>0</td>\n",
       "      <td>1</td>\n",
       "      <td>60</td>\n",
       "      <td>...</td>\n",
       "      <td>50</td>\n",
       "      <td>2</td>\n",
       "      <td>19.38</td>\n",
       "      <td>756</td>\n",
       "      <td>128.174603</td>\n",
       "      <td>5405</td>\n",
       "      <td>56</td>\n",
       "      <td>5296</td>\n",
       "      <td>96.517857</td>\n",
       "      <td>94.571429</td>\n",
       "    </tr>\n",
       "    <tr>\n",
       "      <th>4</th>\n",
       "      <td>1</td>\n",
       "      <td>1</td>\n",
       "      <td>7</td>\n",
       "      <td>3</td>\n",
       "      <td>MC Henriques</td>\n",
       "      <td>S Dhawan</td>\n",
       "      <td>YS Chahal</td>\n",
       "      <td>0</td>\n",
       "      <td>1</td>\n",
       "      <td>61</td>\n",
       "      <td>...</td>\n",
       "      <td>50</td>\n",
       "      <td>2</td>\n",
       "      <td>19.38</td>\n",
       "      <td>756</td>\n",
       "      <td>128.174603</td>\n",
       "      <td>5405</td>\n",
       "      <td>56</td>\n",
       "      <td>5296</td>\n",
       "      <td>96.517857</td>\n",
       "      <td>94.571429</td>\n",
       "    </tr>\n",
       "  </tbody>\n",
       "</table>\n",
       "<p>5 rows × 42 columns</p>\n",
       "</div>"
      ],
      "text/plain": [
       "   match_id  inning  over  ball       batsman non_striker     bowler  \\\n",
       "0         1       1     4     1  MC Henriques    S Dhawan  YS Chahal   \n",
       "1         1       1     4     2  MC Henriques    S Dhawan  YS Chahal   \n",
       "2         1       1     4     5  MC Henriques    S Dhawan  YS Chahal   \n",
       "3         1       1     7     2  MC Henriques    S Dhawan  YS Chahal   \n",
       "4         1       1     7     3  MC Henriques    S Dhawan  YS Chahal   \n",
       "\n",
       "   is_super_over  wickets_fallen  score  ...  matches_y  MOM Wins_y  \\\n",
       "0              0               1     29  ...         50           2   \n",
       "1              0               1     30  ...         50           2   \n",
       "2              0               1     32  ...         50           2   \n",
       "3              0               1     60  ...         50           2   \n",
       "4              0               1     61  ...         50           2   \n",
       "\n",
       "   batting_average  balls_faced   strk_rate  venue_runs_inone  venue_matches  \\\n",
       "0            19.38          756  128.174603              5405             56   \n",
       "1            19.38          756  128.174603              5405             56   \n",
       "2            19.38          756  128.174603              5405             56   \n",
       "3            19.38          756  128.174603              5405             56   \n",
       "4            19.38          756  128.174603              5405             56   \n",
       "\n",
       "  venue_runs_intwo inning_one_average_total inning_two_average_total  \n",
       "0             5296                96.517857                94.571429  \n",
       "1             5296                96.517857                94.571429  \n",
       "2             5296                96.517857                94.571429  \n",
       "3             5296                96.517857                94.571429  \n",
       "4             5296                96.517857                94.571429  \n",
       "\n",
       "[5 rows x 42 columns]"
      ]
     },
     "execution_count": 44,
     "metadata": {},
     "output_type": "execute_result"
    }
   ],
   "source": [
    "df_balls_matches_pred = df_balls_matches.copy()\n",
    "df_balls_matches_pred.head()"
   ]
  },
  {
   "cell_type": "code",
   "execution_count": 45,
   "metadata": {
    "scrolled": false
   },
   "outputs": [
    {
     "data": {
      "text/html": [
       "<div>\n",
       "<style scoped>\n",
       "    .dataframe tbody tr th:only-of-type {\n",
       "        vertical-align: middle;\n",
       "    }\n",
       "\n",
       "    .dataframe tbody tr th {\n",
       "        vertical-align: top;\n",
       "    }\n",
       "\n",
       "    .dataframe thead th {\n",
       "        text-align: right;\n",
       "    }\n",
       "</style>\n",
       "<table border=\"1\" class=\"dataframe\">\n",
       "  <thead>\n",
       "    <tr style=\"text-align: right;\">\n",
       "      <th></th>\n",
       "      <th>match_id</th>\n",
       "      <th>inning</th>\n",
       "      <th>over</th>\n",
       "      <th>ball</th>\n",
       "      <th>batsman</th>\n",
       "      <th>non_striker</th>\n",
       "      <th>bowler</th>\n",
       "      <th>is_super_over</th>\n",
       "      <th>wickets_fallen</th>\n",
       "      <th>score</th>\n",
       "      <th>...</th>\n",
       "      <th>matches_y</th>\n",
       "      <th>MOM Wins_y</th>\n",
       "      <th>batting_average</th>\n",
       "      <th>balls_faced</th>\n",
       "      <th>strk_rate</th>\n",
       "      <th>venue_runs_inone</th>\n",
       "      <th>venue_matches</th>\n",
       "      <th>venue_runs_intwo</th>\n",
       "      <th>inning_one_average_total</th>\n",
       "      <th>inning_two_average_total</th>\n",
       "    </tr>\n",
       "  </thead>\n",
       "  <tbody>\n",
       "    <tr>\n",
       "      <th>0</th>\n",
       "      <td>1</td>\n",
       "      <td>1</td>\n",
       "      <td>4</td>\n",
       "      <td>1</td>\n",
       "      <td>290</td>\n",
       "      <td>423</td>\n",
       "      <td>553</td>\n",
       "      <td>0</td>\n",
       "      <td>1</td>\n",
       "      <td>29</td>\n",
       "      <td>...</td>\n",
       "      <td>50</td>\n",
       "      <td>2</td>\n",
       "      <td>19.38</td>\n",
       "      <td>756</td>\n",
       "      <td>128.174603</td>\n",
       "      <td>5405</td>\n",
       "      <td>56</td>\n",
       "      <td>5296</td>\n",
       "      <td>96.517857</td>\n",
       "      <td>94.571429</td>\n",
       "    </tr>\n",
       "    <tr>\n",
       "      <th>1</th>\n",
       "      <td>1</td>\n",
       "      <td>1</td>\n",
       "      <td>4</td>\n",
       "      <td>2</td>\n",
       "      <td>290</td>\n",
       "      <td>423</td>\n",
       "      <td>553</td>\n",
       "      <td>0</td>\n",
       "      <td>1</td>\n",
       "      <td>30</td>\n",
       "      <td>...</td>\n",
       "      <td>50</td>\n",
       "      <td>2</td>\n",
       "      <td>19.38</td>\n",
       "      <td>756</td>\n",
       "      <td>128.174603</td>\n",
       "      <td>5405</td>\n",
       "      <td>56</td>\n",
       "      <td>5296</td>\n",
       "      <td>96.517857</td>\n",
       "      <td>94.571429</td>\n",
       "    </tr>\n",
       "    <tr>\n",
       "      <th>2</th>\n",
       "      <td>1</td>\n",
       "      <td>1</td>\n",
       "      <td>4</td>\n",
       "      <td>5</td>\n",
       "      <td>290</td>\n",
       "      <td>423</td>\n",
       "      <td>553</td>\n",
       "      <td>0</td>\n",
       "      <td>1</td>\n",
       "      <td>32</td>\n",
       "      <td>...</td>\n",
       "      <td>50</td>\n",
       "      <td>2</td>\n",
       "      <td>19.38</td>\n",
       "      <td>756</td>\n",
       "      <td>128.174603</td>\n",
       "      <td>5405</td>\n",
       "      <td>56</td>\n",
       "      <td>5296</td>\n",
       "      <td>96.517857</td>\n",
       "      <td>94.571429</td>\n",
       "    </tr>\n",
       "    <tr>\n",
       "      <th>3</th>\n",
       "      <td>1</td>\n",
       "      <td>1</td>\n",
       "      <td>7</td>\n",
       "      <td>2</td>\n",
       "      <td>290</td>\n",
       "      <td>423</td>\n",
       "      <td>553</td>\n",
       "      <td>0</td>\n",
       "      <td>1</td>\n",
       "      <td>60</td>\n",
       "      <td>...</td>\n",
       "      <td>50</td>\n",
       "      <td>2</td>\n",
       "      <td>19.38</td>\n",
       "      <td>756</td>\n",
       "      <td>128.174603</td>\n",
       "      <td>5405</td>\n",
       "      <td>56</td>\n",
       "      <td>5296</td>\n",
       "      <td>96.517857</td>\n",
       "      <td>94.571429</td>\n",
       "    </tr>\n",
       "    <tr>\n",
       "      <th>4</th>\n",
       "      <td>1</td>\n",
       "      <td>1</td>\n",
       "      <td>7</td>\n",
       "      <td>3</td>\n",
       "      <td>290</td>\n",
       "      <td>423</td>\n",
       "      <td>553</td>\n",
       "      <td>0</td>\n",
       "      <td>1</td>\n",
       "      <td>61</td>\n",
       "      <td>...</td>\n",
       "      <td>50</td>\n",
       "      <td>2</td>\n",
       "      <td>19.38</td>\n",
       "      <td>756</td>\n",
       "      <td>128.174603</td>\n",
       "      <td>5405</td>\n",
       "      <td>56</td>\n",
       "      <td>5296</td>\n",
       "      <td>96.517857</td>\n",
       "      <td>94.571429</td>\n",
       "    </tr>\n",
       "  </tbody>\n",
       "</table>\n",
       "<p>5 rows × 42 columns</p>\n",
       "</div>"
      ],
      "text/plain": [
       "   match_id  inning  over  ball  batsman  non_striker  bowler  is_super_over  \\\n",
       "0         1       1     4     1      290          423     553              0   \n",
       "1         1       1     4     2      290          423     553              0   \n",
       "2         1       1     4     5      290          423     553              0   \n",
       "3         1       1     7     2      290          423     553              0   \n",
       "4         1       1     7     3      290          423     553              0   \n",
       "\n",
       "   wickets_fallen  score  ...  matches_y  MOM Wins_y  batting_average  \\\n",
       "0               1     29  ...         50           2            19.38   \n",
       "1               1     30  ...         50           2            19.38   \n",
       "2               1     32  ...         50           2            19.38   \n",
       "3               1     60  ...         50           2            19.38   \n",
       "4               1     61  ...         50           2            19.38   \n",
       "\n",
       "   balls_faced   strk_rate  venue_runs_inone  venue_matches  venue_runs_intwo  \\\n",
       "0          756  128.174603              5405             56              5296   \n",
       "1          756  128.174603              5405             56              5296   \n",
       "2          756  128.174603              5405             56              5296   \n",
       "3          756  128.174603              5405             56              5296   \n",
       "4          756  128.174603              5405             56              5296   \n",
       "\n",
       "   inning_one_average_total  inning_two_average_total  \n",
       "0                 96.517857                 94.571429  \n",
       "1                 96.517857                 94.571429  \n",
       "2                 96.517857                 94.571429  \n",
       "3                 96.517857                 94.571429  \n",
       "4                 96.517857                 94.571429  \n",
       "\n",
       "[5 rows x 42 columns]"
      ]
     },
     "execution_count": 45,
     "metadata": {},
     "output_type": "execute_result"
    }
   ],
   "source": [
    "#issue in 'city' data\n",
    "label_encoder = preprocessing.LabelEncoder()\n",
    "team_label_encoder = preprocessing.LabelEncoder()\n",
    "player_label_encoder = preprocessing.LabelEncoder()\n",
    "cols = ['venue','city', 'toss_decision']\n",
    "for c in cols:\n",
    "    df_balls_matches_pred[c] = label_encoder.fit_transform(df_balls_matches_pred[c])\n",
    "\n",
    "team_cols = ['team1', 'team2', 'toss_winner']\n",
    "team_label_encoder.fit(pd.DataFrame(allteams_unique))\n",
    "for t in team_cols:\n",
    "    df_balls_matches_pred[t] = team_label_encoder.transform(df_balls_matches_pred[t])\n",
    "\n",
    "player_cols = ['batsman', 'non_striker', 'bowler']\n",
    "player_label_encoder.fit(pd.DataFrame(allplayers_unique))\n",
    "for p in player_cols:\n",
    "    df_balls_matches_pred[p] = player_label_encoder.transform(df_balls_matches_pred[p])\n",
    "\n",
    "df_balls_matches_pred.head()"
   ]
  },
  {
   "cell_type": "code",
   "execution_count": 46,
   "metadata": {
    "scrolled": false
   },
   "outputs": [
    {
     "data": {
      "text/plain": [
       "0      1\n",
       "1      1\n",
       "221    1\n",
       "222    1\n",
       "2      1\n",
       "223    1\n",
       "237    1\n",
       "16     1\n",
       "238    1\n",
       "17     1\n",
       "Name: toss_decision, dtype: int32"
      ]
     },
     "execution_count": 46,
     "metadata": {},
     "output_type": "execute_result"
    }
   ],
   "source": [
    "df_balls_matches_pred.sort_values(by=['match_id','inning','over','ball'])['toss_decision'].head(10)"
   ]
  },
  {
   "cell_type": "code",
   "execution_count": 47,
   "metadata": {
    "scrolled": true
   },
   "outputs": [],
   "source": [
    "y = df_balls_matches_pred.pop('result').values\n",
    "X = df_balls_matches_pred.values"
   ]
  },
  {
   "cell_type": "markdown",
   "metadata": {},
   "source": [
    "### PCA and scaling"
   ]
  },
  {
   "cell_type": "code",
   "execution_count": 48,
   "metadata": {},
   "outputs": [],
   "source": [
    "# Scale input features to N(0,1)\n",
    "X_scal = StandardScaler().fit_transform(X)\n",
    "\n",
    "pca = PCA(n_components=2)\n",
    "X_r = pca.fit(X_scal).transform(X)"
   ]
  },
  {
   "cell_type": "code",
   "execution_count": 49,
   "metadata": {},
   "outputs": [
    {
     "data": {
      "text/plain": [
       "array([[ -134.0688109 , -3300.28617221,  4440.40526306, -3216.97099874,\n",
       "         -319.00066348,   144.47050622],\n",
       "       [ -133.46357129, -3300.27510627,  4440.75151159, -3216.59458198,\n",
       "         -318.48756431,   144.62922314],\n",
       "       [ -132.20469719, -3300.23679075,  4441.43321068, -3215.89491412,\n",
       "         -317.51229755,   144.96192041],\n",
       "       ...,\n",
       "       [   87.14161274,  -797.1524448 ,   882.35750794,   488.90222679,\n",
       "         -586.98749918,   309.457589  ],\n",
       "       [  124.14785943, -1121.17085201,   803.53432826,   482.7249379 ,\n",
       "         -575.69920021,   349.75375631],\n",
       "       [  124.75309903, -1121.15978607,   803.88057679,   483.10135466,\n",
       "         -575.18610104,   349.91247324]])"
      ]
     },
     "execution_count": 49,
     "metadata": {},
     "output_type": "execute_result"
    }
   ],
   "source": [
    "X_r"
   ]
  },
  {
   "cell_type": "code",
   "execution_count": 50,
   "metadata": {},
   "outputs": [],
   "source": [
    "X_train, X_test, y_train, y_test = train_test_split(X_r, y, test_size=0.2, random_state=0) \n",
    "gnb = GaussianNB()\n",
    "y_pred = gnb.fit(X_train,y_train).predict(X_test)"
   ]
  },
  {
   "cell_type": "code",
   "execution_count": 51,
   "metadata": {},
   "outputs": [
    {
     "name": "stdout",
     "output_type": "stream",
     "text": [
      "Accuracy :  0.38713350412752634 F1 score: 0.07560539088575201\n"
     ]
    }
   ],
   "source": [
    "print('Accuracy : ',accuracy_score(y_test,y_pred),'F1 score:',f1_score(y_test,y_pred,average='macro'))"
   ]
  },
  {
   "cell_type": "markdown",
   "metadata": {},
   "source": [
    "#### Lets select some features"
   ]
  },
  {
   "cell_type": "code",
   "execution_count": 52,
   "metadata": {},
   "outputs": [
    {
     "data": {
      "text/plain": [
       "Text(0, 0.5, 'Feature Importance')"
      ]
     },
     "execution_count": 52,
     "metadata": {},
     "output_type": "execute_result"
    },
    {
     "data": {
      "image/png": "[encoded data removed]",
      "text/plain": [
       "<Figure size 720x360 with 1 Axes>"
      ]
     },
     "metadata": {
      "needs_background": "light"
     },
     "output_type": "display_data"
    }
   ],
   "source": [
    "RF = RandomForestClassifier(n_estimators=100, max_depth=6, random_state=0)\n",
    "RF = RF.fit(X,y)\n",
    "FI_df = pd.DataFrame(RF.feature_importances_, index=[df_balls_matches_pred.columns],columns =['FI Score'])\n",
    "FI_df.sort_values('FI Score', inplace=True, ascending = False)\n",
    "%matplotlib inline\n",
    "pl = FI_df.plot.bar(figsize=(10,5))\n",
    "pl.set_ylabel(\"Feature Importance\")"
   ]
  },
  {
   "cell_type": "code",
   "execution_count": 53,
   "metadata": {},
   "outputs": [
    {
     "data": {
      "text/plain": [
       "Text(0, 0.5, 'Feature Importance')"
      ]
     },
     "execution_count": 53,
     "metadata": {},
     "output_type": "execute_result"
    },
    {
     "data": {
      "image/png": "[encoded data removed]",
      "text/plain": [
       "<Figure size 720x360 with 1 Axes>"
      ]
     },
     "metadata": {
      "needs_background": "light"
     },
     "output_type": "display_data"
    }
   ],
   "source": [
    "RF = RandomForestClassifier(n_estimators=100, max_depth=6, random_state=0)\n",
    "RF = RF.fit(X_r,y)\n",
    "FI_df = pd.DataFrame(RF.feature_importances_, index=['PCA1','PCA2'],columns =['FI Score'])\n",
    "FI_df.sort_values('FI Score', inplace=True, ascending = False)\n",
    "\n",
    "pl = FI_df.plot.bar(figsize=(10,5))\n",
    "pl.set_ylabel(\"Feature Importance\")"
   ]
  },
  {
   "cell_type": "code",
   "execution_count": 54,
   "metadata": {},
   "outputs": [
    {
     "name": "stdout",
     "output_type": "stream",
     "text": [
      "10 x CV GaussianNB             Accuracy: 0.38 \n",
      "10 x CV DecisionTreeClassifier Accuracy: 0.24 \n",
      "10 x CV KNeighborsClassifier   Accuracy: 0.30 \n"
     ]
    }
   ],
   "source": [
    "gnb = GaussianNB()\n",
    "dtree = DecisionTreeClassifier()\n",
    "kNN = KNeighborsClassifier(n_neighbors=3)\n",
    "folds = 10\n",
    "models =  [gnb,dtree,kNN]\n",
    "for m in models:\n",
    "    cv_results = cross_validate(m, X_r, y, cv= folds,scoring='accuracy', return_train_score=False, verbose = 0, n_jobs = -1)\n",
    "    print(\"{} x CV {:22} Accuracy: {:.2f} \".format(folds, type(m).__name__, cv_results['test_score'].mean()))\n"
   ]
  },
  {
   "cell_type": "code",
   "execution_count": 55,
   "metadata": {},
   "outputs": [],
   "source": [
    "gnb_bag = BaggingClassifier(gnb, \n",
    "                            n_estimators = 10,\n",
    "                            max_samples = 1.0, \n",
    "                            bootstrap = True)\n",
    "\n",
    "tree_bag = BaggingClassifier(dtree, \n",
    "                            n_estimators = 10,\n",
    "                            max_samples = 1.0, # bootstrap resampling \n",
    "                            bootstrap = True)"
   ]
  },
  {
   "cell_type": "code",
   "execution_count": 56,
   "metadata": {},
   "outputs": [
    {
     "name": "stdout",
     "output_type": "stream",
     "text": [
      "Mean for GNB 0.38\n",
      "Mean for GNB_bag 0.38\n",
      "Mean for D-Tree 0.25\n",
      "Mean for D_Tree_bag 0.33\n"
     ]
    }
   ],
   "source": [
    "folds = 5\n",
    "v = 0\n",
    "scores_gnb = cross_val_score(gnb, X_r, y, cv=folds, verbose = v, n_jobs = -1)\n",
    "scores_gnb_bag = cross_val_score(gnb_bag, X_r, y, cv=folds, verbose = v, n_jobs = -1)\n",
    "\n",
    "print(\"Mean for GNB {:.2f}\".format(scores_gnb.mean()))\n",
    "print(\"Mean for GNB_bag {:.2f}\".format(scores_gnb_bag.mean()))\n",
    "\n",
    "scores_tree = cross_val_score(dtree, X_r, y, cv=folds, verbose = v, n_jobs = -1)\n",
    "scores_tree_bag = cross_val_score(tree_bag, X_r, y, cv=folds, verbose = v, n_jobs = -1)\n",
    "\n",
    "print(\"Mean for D-Tree {:.2f}\".format(scores_tree.mean()))\n",
    "print(\"Mean for D_Tree_bag {:.2f}\".format(scores_tree_bag.mean()))"
   ]
  },
  {
   "cell_type": "code",
   "execution_count": 57,
   "metadata": {},
   "outputs": [
    {
     "data": {
      "text/plain": [
       "Index(['match_id', 'inning', 'over', 'ball', 'batsman', 'non_striker',\n",
       "       'bowler', 'is_super_over', 'wickets_fallen', 'score',\n",
       "       'last_wicket_ball', 'striker_runs', 'non_striker_runs',\n",
       "       'bowler_match_runs', 'bowler_match_wickets', 'id', 'season', 'city',\n",
       "       'team1', 'team2', 'result', 'venue', 'wickets_taken', 'matches_x',\n",
       "       'bowler_runs_conceded', 'bowling_average', 'MOM Wins_x', 'balls_bowled',\n",
       "       'bowler_strk_rate', 'matches_y', 'MOM Wins_y', 'batting_average',\n",
       "       'balls_faced', 'strk_rate', 'venue_runs_inone', 'venue_matches',\n",
       "       'venue_runs_intwo', 'inning_one_average_total',\n",
       "       'inning_two_average_total'],\n",
       "      dtype='object')"
      ]
     },
     "execution_count": 57,
     "metadata": {},
     "output_type": "execute_result"
    }
   ],
   "source": [
    "df_balls_matches_cat = df_balls_matches.copy()\n",
    "df_balls_matches_cat = df_balls_matches_cat.drop(['dl_applied','toss_winner','toss_decision'], axis=1)\n",
    "#df_balls_matches_cat.select_dtypes(include=['object']).columns\n",
    "df_balls_matches_cat.columns"
   ]
  },
  {
   "cell_type": "code",
   "execution_count": 70,
   "metadata": {},
   "outputs": [
    {
     "data": {
      "text/plain": [
       "NO1    50181\n",
       "NO0    37659\n",
       "NO4    14099\n",
       "NO2     8903\n",
       "O0      5713\n",
       "NO6     5522\n",
       "NO3      450\n",
       "NO5      224\n",
       "O1       201\n",
       "Name: result, dtype: int64"
      ]
     },
     "execution_count": 70,
     "metadata": {},
     "output_type": "execute_result"
    }
   ],
   "source": [
    "df_balls_matches_cat['result'].value_counts()"
   ]
  },
  {
   "cell_type": "code",
   "execution_count": 58,
   "metadata": {
    "scrolled": true
   },
   "outputs": [
    {
     "name": "stdout",
     "output_type": "stream",
     "text": [
      "0:\tlearn: 1.5047684\ttotal: 3.62s\tremaining: 1m 8s\n",
      "1:\tlearn: 1.3930948\ttotal: 6.56s\tremaining: 59.1s\n",
      "2:\tlearn: 1.3373538\ttotal: 8.92s\tremaining: 50.5s\n",
      "3:\tlearn: 1.2852386\ttotal: 11.1s\tremaining: 44.3s\n",
      "4:\tlearn: 1.2708606\ttotal: 12.8s\tremaining: 38.5s\n",
      "5:\tlearn: 1.2505333\ttotal: 15s\tremaining: 35s\n",
      "6:\tlearn: 1.2442622\ttotal: 17.5s\tremaining: 32.4s\n",
      "7:\tlearn: 1.2329377\ttotal: 19.7s\tremaining: 29.6s\n",
      "8:\tlearn: 1.2285248\ttotal: 22s\tremaining: 26.8s\n",
      "9:\tlearn: 1.2213576\ttotal: 24.3s\tremaining: 24.3s\n",
      "10:\tlearn: 1.2181618\ttotal: 26.5s\tremaining: 21.7s\n",
      "11:\tlearn: 1.2097681\ttotal: 28.7s\tremaining: 19.2s\n",
      "12:\tlearn: 1.2073080\ttotal: 31s\tremaining: 16.7s\n",
      "13:\tlearn: 1.2019460\ttotal: 33.4s\tremaining: 14.3s\n",
      "14:\tlearn: 1.1996832\ttotal: 35.9s\tremaining: 12s\n",
      "15:\tlearn: 1.1983429\ttotal: 38.2s\tremaining: 9.55s\n",
      "16:\tlearn: 1.1960297\ttotal: 40.6s\tremaining: 7.16s\n",
      "17:\tlearn: 1.1915610\ttotal: 43.3s\tremaining: 4.81s\n",
      "18:\tlearn: 1.1838212\ttotal: 46.2s\tremaining: 2.43s\n",
      "19:\tlearn: 1.1791094\ttotal: 48.9s\tremaining: 0us\n"
     ]
    }
   ],
   "source": [
    "# Trying CatBoostClassifier\n",
    "\n",
    "\n",
    "cat_features = [4,5,6,17,18,19,20]\n",
    "\n",
    "y = df_balls_matches_cat['result'].values\n",
    "X = df_balls_matches_cat.loc[:, df_balls_matches_cat.columns != 'result'].values\n",
    "X_train, X_test, y_train, y_test = train_test_split(X, y, test_size=0.2, random_state=0)\n",
    "\n",
    "train_label = y_train\n",
    "eval_label = y_test\n",
    "\n",
    "\n",
    "train_dataset = Pool(data=X_train,\n",
    "                     label=train_label,\n",
    "                     cat_features=cat_features)\n",
    "\n",
    "eval_dataset = Pool(data=X_test,\n",
    "                    label=eval_label,\n",
    "                    cat_features=cat_features)\n",
    "\n",
    "# Initialize CatBoostClassifier\n",
    "model = CatBoostClassifier(iterations=20,\n",
    "                           learning_rate=0.50,\n",
    "                           depth=8,\n",
    "                           loss_function='MultiClass')\n",
    "# Fit model\n",
    "model.fit(train_dataset)\n",
    "# Get predicted classes\n",
    "preds_class = model.predict(eval_dataset)\n",
    "# Get predicted probabilities for each class\n",
    "preds_proba = model.predict_proba(eval_dataset)\n",
    "# Get predicted RawFormulaVal\n",
    "preds_raw = model.predict(eval_dataset, \n",
    "                          prediction_type='RawFormulaVal')"
   ]
  },
  {
   "cell_type": "code",
   "execution_count": 59,
   "metadata": {},
   "outputs": [
    {
     "name": "stdout",
     "output_type": "stream",
     "text": [
      "Accuracy :  0.5242161766499939 F1 score: 0.22009496176145676\n"
     ]
    }
   ],
   "source": [
    "print('Accuracy : ',accuracy_score(y_test,preds_class),'F1 score:',f1_score(y_test,preds_class,average='macro'))"
   ]
  },
  {
   "cell_type": "code",
   "execution_count": 61,
   "metadata": {
    "scrolled": true
   },
   "outputs": [
    {
     "data": {
      "text/html": [
       "<div>\n",
       "<style scoped>\n",
       "    .dataframe tbody tr th:only-of-type {\n",
       "        vertical-align: middle;\n",
       "    }\n",
       "\n",
       "    .dataframe tbody tr th {\n",
       "        vertical-align: top;\n",
       "    }\n",
       "\n",
       "    .dataframe thead th {\n",
       "        text-align: right;\n",
       "    }\n",
       "</style>\n",
       "<table border=\"1\" class=\"dataframe\">\n",
       "  <thead>\n",
       "    <tr style=\"text-align: right;\">\n",
       "      <th></th>\n",
       "      <th>Actual</th>\n",
       "      <th>Predicted</th>\n",
       "    </tr>\n",
       "  </thead>\n",
       "  <tbody>\n",
       "    <tr>\n",
       "      <th>0</th>\n",
       "      <td>NO2</td>\n",
       "      <td>NO1</td>\n",
       "    </tr>\n",
       "    <tr>\n",
       "      <th>1</th>\n",
       "      <td>NO0</td>\n",
       "      <td>NO1</td>\n",
       "    </tr>\n",
       "    <tr>\n",
       "      <th>2</th>\n",
       "      <td>NO0</td>\n",
       "      <td>NO1</td>\n",
       "    </tr>\n",
       "    <tr>\n",
       "      <th>3</th>\n",
       "      <td>NO0</td>\n",
       "      <td>NO1</td>\n",
       "    </tr>\n",
       "    <tr>\n",
       "      <th>4</th>\n",
       "      <td>O0</td>\n",
       "      <td>NO1</td>\n",
       "    </tr>\n",
       "  </tbody>\n",
       "</table>\n",
       "</div>"
      ],
      "text/plain": [
       "  Actual Predicted\n",
       "0    NO2       NO1\n",
       "1    NO0       NO1\n",
       "2    NO0       NO1\n",
       "3    NO0       NO1\n",
       "4     O0       NO1"
      ]
     },
     "execution_count": 61,
     "metadata": {},
     "output_type": "execute_result"
    }
   ],
   "source": [
    "display_comparison = pd.DataFrame({'Actual': y_test, 'Predicted': y_pred})\n",
    "display_comparison.head(5)"
   ]
  },
  {
   "cell_type": "code",
   "execution_count": 69,
   "metadata": {},
   "outputs": [
    {
     "data": {
      "text/plain": [
       "array(['NO1', 'NO2'], dtype='<U3')"
      ]
     },
     "execution_count": 69,
     "metadata": {},
     "output_type": "execute_result"
    }
   ],
   "source": [
    "np.unique(y_pred)"
   ]
  },
  {
   "cell_type": "code",
   "execution_count": 65,
   "metadata": {
    "scrolled": false
   },
   "outputs": [
    {
     "name": "stdout",
     "output_type": "stream",
     "text": [
      "Predicted    NO1   NO2    All\n",
      "True                         \n",
      "NO0         6953   579   7532\n",
      "NO1         9314   753  10067\n",
      "NO2         1526   206   1732\n",
      "NO3           86    10     96\n",
      "NO4         2604   238   2842\n",
      "NO5           41     0     41\n",
      "NO6          970   116   1086\n",
      "O0          1036   127   1163\n",
      "O1            32     0     32\n",
      "All        22562  2029  24591\n"
     ]
    }
   ],
   "source": [
    "print(pd.crosstab(y_test, y_pred, rownames=['True'], colnames=['Predicted'], margins=True))"
   ]
  },
  {
   "cell_type": "markdown",
   "metadata": {},
   "source": [
    "# Predicting each over results"
   ]
  },
  {
   "cell_type": "code",
   "execution_count": null,
   "metadata": {},
   "outputs": [],
   "source": [
    "df_balls['is_wicket'] = np.where(df_balls['player_dismissed'] == 'NA', 0, 1)"
   ]
  },
  {
   "cell_type": "code",
   "execution_count": null,
   "metadata": {},
   "outputs": [],
   "source": [
    "df_balls.is_wicket.value_counts()"
   ]
  },
  {
   "cell_type": "code",
   "execution_count": null,
   "metadata": {},
   "outputs": [],
   "source": [
    "df_balls.head()"
   ]
  },
  {
   "cell_type": "code",
   "execution_count": null,
   "metadata": {
    "scrolled": true
   },
   "outputs": [],
   "source": [
    "df_over = df_balls.groupby(['match_id','over','inning'],as_index=False).agg({'batsman' : lambda x: x.head(1),\n",
    "                                                              'non_striker' : lambda x: x.head(1),\n",
    "                                                                   'batting_team' : lambda x: x.head(1),\n",
    "                                                              'batting_team' : lambda x: x.head(1),\n",
    "                                                            'bowling_team' : lambda x: x.head(1),\n",
    "                                                            'bowler' : lambda x: x.head(1),\n",
    "                                                                   'bowler_runs_conceded' : np.sum,\n",
    "                                                                   'total_runs' : np.sum,\n",
    "                                                                   'is_wicket' : np.sum,\n",
    "                                                             'bowler_match_wickets': lambda x: x.head(1),\n",
    "                                                             'striker_runs' : lambda x: x.head(1),\n",
    "                                                             'bowler_match_runs' : lambda x: x.head(1) ,\n",
    "                                                             'non_striker_runs': lambda x: x.head(1),\n",
    "                                                             'score' : lambda x: x.head(1),\n",
    "                                                             'last_wicket_ball' : lambda x: x.head(1)})\n",
    "# over_bat = df_over['batsman'].str.split(',',expand=True).fillna('NA')\n",
    "# over_bowl = df_over['bowler'].str.split(',',expand=True).fillna('NA')\n",
    "# df_over['batsman1'] = over_bat[0]\n",
    "# df_over['batsman2'] = over_bat[1]\n",
    "# df_over['batsman3'] = over_bat[2]\n",
    "# df_over['batsman4'] = over_bat[3]\n",
    "# df_over['batsman5'] = over_bat[4]\n",
    "# df_over['bowler1'] = over_bowl[0]\n",
    "# df_over['bowler2'] = over_bowl[1]\n",
    "# df_over = df_over.drop(['batsman','bowler'],axis=1)\n",
    "df_over.head()"
   ]
  },
  {
   "cell_type": "code",
   "execution_count": null,
   "metadata": {},
   "outputs": [],
   "source": [
    "profile = ProfileReport(df_over, title='Pandas Profiling Report', html={'style':{'full_width':True}})\n",
    "profile"
   ]
  },
  {
   "cell_type": "code",
   "execution_count": null,
   "metadata": {},
   "outputs": [],
   "source": [
    "df_over_ext = df_over.copy()"
   ]
  },
  {
   "cell_type": "code",
   "execution_count": null,
   "metadata": {},
   "outputs": [],
   "source": [
    "df_over_ext = df_over_ext.merge(player_data,on='batsman')\n",
    "df_over_ext = df_over_ext.merge(bowler_data,on='bowler')\n",
    "df_over_ext = df_over_ext.merge(player_data,left_on='non_striker',right_on='batsman',suffixes=('_str','_nstr'))\n",
    "df_over_ext.head()"
   ]
  },
  {
   "cell_type": "code",
   "execution_count": null,
   "metadata": {
    "scrolled": true
   },
   "outputs": [],
   "source": [
    "df_over_ext = df_over_ext.drop(['batsman_nstr'],axis=1)\n",
    "df_over_ext.columns"
   ]
  },
  {
   "cell_type": "markdown",
   "metadata": {},
   "source": [
    "### Predict runs in each over"
   ]
  },
  {
   "cell_type": "code",
   "execution_count": null,
   "metadata": {},
   "outputs": [],
   "source": [
    "# df_over['result'] = df_over['total_runs'] + (0.1)*df_over['is_wicket']\n",
    "# df_over = df_over.drop(['total_runs','is_wicket'],axis=1)\n",
    "# df_over.head()"
   ]
  },
  {
   "cell_type": "markdown",
   "metadata": {},
   "source": [
    "## If a wicket is going to fall in the over"
   ]
  },
  {
   "cell_type": "code",
   "execution_count": null,
   "metadata": {
    "scrolled": true
   },
   "outputs": [],
   "source": [
    "df_over_wickets = df_over_ext.drop(['total_runs','bowler_runs_conceded_x','bowler_runs_conceded_y'],axis=1)"
   ]
  },
  {
   "cell_type": "code",
   "execution_count": null,
   "metadata": {},
   "outputs": [],
   "source": [
    "profile = ProfileReport(df_over_wickets, title='Pandas Profiling Report', html={'style':{'full_width':True}})\n",
    "profile"
   ]
  },
  {
   "cell_type": "code",
   "execution_count": null,
   "metadata": {
    "scrolled": true
   },
   "outputs": [],
   "source": [
    "df_over_wickets.columns"
   ]
  },
  {
   "cell_type": "code",
   "execution_count": null,
   "metadata": {},
   "outputs": [],
   "source": [
    "df_over_en = df_over_wickets.copy()"
   ]
  },
  {
   "cell_type": "code",
   "execution_count": null,
   "metadata": {
    "scrolled": true
   },
   "outputs": [],
   "source": [
    "label_encoder = preprocessing.LabelEncoder()\n",
    "team_label_encoder = preprocessing.LabelEncoder()\n",
    "player_label_encoder = preprocessing.LabelEncoder()\n",
    "\n",
    "team_cols = ['batting_team', 'bowling_team']\n",
    "team_label_encoder.fit(pd.DataFrame(allteams_unique))\n",
    "for t in team_cols:\n",
    "    df_over_en[t] = team_label_encoder.transform(df_over_en[t])\n",
    "\n",
    "player_cols = ['batsman_str', 'non_striker', 'bowler']\n",
    "player_label_encoder.fit(pd.DataFrame(allplayers_unique))\n",
    "for p in player_cols:\n",
    "    df_over_en[p] = player_label_encoder.transform(df_over_en[p])\n",
    "\n",
    "df_over_en.head()"
   ]
  },
  {
   "cell_type": "markdown",
   "metadata": {},
   "source": [
    "We set the label class as 'is_wicket' to 0 if no wicket falls, and 1 if any wicket falls. (Making this a binary classification task)"
   ]
  },
  {
   "cell_type": "code",
   "execution_count": null,
   "metadata": {},
   "outputs": [],
   "source": [
    "df_over_en['is_wicket'] = np.where(df_over_en['is_wicket'] == 0, 0, 1)"
   ]
  },
  {
   "cell_type": "code",
   "execution_count": null,
   "metadata": {},
   "outputs": [],
   "source": [
    "df_over_en['is_wicket'].value_counts()"
   ]
  },
  {
   "cell_type": "code",
   "execution_count": null,
   "metadata": {},
   "outputs": [],
   "source": [
    "y = df_over_en['is_wicket'].values\n",
    "X = df_over_en.loc[:, df_over_en.columns != 'is_wicket'].values"
   ]
  },
  {
   "cell_type": "code",
   "execution_count": null,
   "metadata": {
    "scrolled": true
   },
   "outputs": [],
   "source": [
    "X_train, X_test, y_train, y_test = train_test_split(X, y, test_size=0.2, random_state=0) \n",
    "gnb = GaussianNB()\n",
    "y_pred = gnb.fit(X_train,y_train).predict(X_test)\n",
    "print('Accuracy : ',accuracy_score(y_test,y_pred),'F1 score:',f1_score(y_test,y_pred,average='macro'))"
   ]
  },
  {
   "cell_type": "code",
   "execution_count": null,
   "metadata": {
    "scrolled": false
   },
   "outputs": [],
   "source": [
    "RF = RandomForestClassifier(n_estimators=100, max_depth=6, random_state=0)\n",
    "RF = RF.fit(X,y)\n",
    "FI_df = pd.DataFrame(RF.feature_importances_, index=df_over_en.columns,columns =['FI Score'])\n",
    "FI_df.sort_values('FI Score', inplace=True, ascending = False)\n",
    "%matplotlib inline\n",
    "pl = FI_df.plot.bar(figsize=(10,5))\n",
    "pl.set_ylabel(\"Feature Importance\")"
   ]
  },
  {
   "cell_type": "markdown",
   "metadata": {},
   "source": [
    "### PCA for over data"
   ]
  },
  {
   "cell_type": "code",
   "execution_count": null,
   "metadata": {},
   "outputs": [],
   "source": [
    "# Scale input features to N(0,1)\n",
    "X_scal = StandardScaler().fit_transform(X)\n",
    "\n",
    "pca = PCA(n_components=2)\n",
    "X_r = pca.fit(X_scal).transform(X)"
   ]
  },
  {
   "cell_type": "code",
   "execution_count": null,
   "metadata": {},
   "outputs": [],
   "source": [
    "X_train, X_test, y_train, y_test = train_test_split(X_r, y, test_size=0.2, random_state=0) \n",
    "gnb = GaussianNB()\n",
    "y_pred = gnb.fit(X_train,y_train).predict(X_test)\n",
    "print('Accuracy : ',accuracy_score(y_test,y_pred),'F1 score:',f1_score(y_pred,y_test,average='macro'))"
   ]
  },
  {
   "cell_type": "markdown",
   "metadata": {},
   "source": [
    "Accuracy increased after PCA and normalisation"
   ]
  },
  {
   "cell_type": "code",
   "execution_count": null,
   "metadata": {},
   "outputs": [],
   "source": [
    "dtree = DecisionTreeClassifier()\n",
    "gnb_bag = BaggingClassifier(gnb, \n",
    "                            n_estimators = 10,\n",
    "                            max_samples = 1.0, \n",
    "                            bootstrap = True)\n",
    "\n",
    "tree_bag = BaggingClassifier(dtree, \n",
    "                            n_estimators = 10,\n",
    "                            max_samples = 1.0, # bootstrap resampling \n",
    "                            bootstrap = True)"
   ]
  },
  {
   "cell_type": "code",
   "execution_count": null,
   "metadata": {},
   "outputs": [],
   "source": [
    "folds = 5\n",
    "v = 0\n",
    "scores_gnb = cross_val_score(gnb, X_r, y, cv=folds, verbose = v, n_jobs = -1)\n",
    "scores_gnb_bag = cross_val_score(gnb_bag, X_r, y, cv=folds, verbose = v, n_jobs = -1)\n",
    "\n",
    "print(\"Mean for GNB {:.2f}\".format(scores_gnb.mean()))\n",
    "print(\"Mean for GNB_bag {:.2f}\".format(scores_gnb_bag.mean()))\n",
    "\n",
    "scores_tree = cross_val_score(dtree, X_r, y, cv=folds, verbose = v, n_jobs = -1)\n",
    "scores_tree_bag = cross_val_score(tree_bag, X_r, y, cv=folds, verbose = v, n_jobs = -1)\n",
    "\n",
    "print(\"Mean for D-Tree {:.2f}\".format(scores_tree.mean()))\n",
    "print(\"Mean for D_Tree_bag {:.2f}\".format(scores_tree_bag.mean()))"
   ]
  },
  {
   "cell_type": "code",
   "execution_count": null,
   "metadata": {},
   "outputs": [],
   "source": [
    "display_comparison = pd.DataFrame({'Actual': y_test, 'Predicted': y_pred})\n",
    "display_comparison['Actual'].value_counts()"
   ]
  },
  {
   "cell_type": "code",
   "execution_count": null,
   "metadata": {
    "scrolled": true
   },
   "outputs": [],
   "source": [
    "display_comparison['Predicted'].value_counts()"
   ]
  },
  {
   "cell_type": "markdown",
   "metadata": {},
   "source": [
    "## We are only predicting the majority class!!!"
   ]
  },
  {
   "cell_type": "markdown",
   "metadata": {},
   "source": [
    "Using Upsampling we can bring the number of samples for both classes to equal number and then try to predict."
   ]
  },
  {
   "cell_type": "code",
   "execution_count": null,
   "metadata": {},
   "outputs": [],
   "source": [
    "wicket_0 = df_over_en[df_over_en.is_wicket == 0]\n",
    "wicket_1 = df_over_en[df_over_en.is_wicket == 1]\n",
    "wicket_1 = resample(wicket_1,replace=True,n_samples=13142) #making minority samples equal to majority\n",
    "upsampled_df = pd.concat([wicket_0, wicket_1])"
   ]
  },
  {
   "cell_type": "code",
   "execution_count": null,
   "metadata": {},
   "outputs": [],
   "source": [
    "upsampled_df.columns"
   ]
  },
  {
   "cell_type": "code",
   "execution_count": null,
   "metadata": {},
   "outputs": [],
   "source": [
    "y = upsampled_df['is_wicket'].values\n",
    "X = upsampled_df.loc[:, upsampled_df.columns != 'is_wicket'].values"
   ]
  },
  {
   "cell_type": "code",
   "execution_count": null,
   "metadata": {
    "scrolled": true
   },
   "outputs": [],
   "source": [
    "X_train, X_test, y_train, y_test = train_test_split(X, y, test_size=0.2, random_state=0) \n",
    "gnb = GaussianNB()\n",
    "y_pred = gnb.fit(X_train,y_train).predict(X_test)\n",
    "print('Accuracy : ',accuracy_score(y_pred,y_test),'F1 score:',f1_score(y_pred,y_test,average='macro'))"
   ]
  },
  {
   "cell_type": "code",
   "execution_count": null,
   "metadata": {},
   "outputs": [],
   "source": [
    "dtree = DecisionTreeClassifier()\n",
    "gnb_bag = BaggingClassifier(gnb, \n",
    "                            n_estimators = 10,\n",
    "                            max_samples = 1.0, \n",
    "                            bootstrap = True)\n",
    "\n",
    "tree_bag = BaggingClassifier(dtree, \n",
    "                            n_estimators = 10,\n",
    "                            max_samples = 1.0, # bootstrap resampling \n",
    "                            bootstrap = True)"
   ]
  },
  {
   "cell_type": "code",
   "execution_count": null,
   "metadata": {},
   "outputs": [],
   "source": [
    "folds = 5\n",
    "v = 0\n",
    "scores_gnb = cross_val_score(gnb, X, y, cv=folds, verbose = v, n_jobs = -1)\n",
    "scores_gnb_bag = cross_val_score(gnb_bag, X, y, cv=folds, verbose = v, n_jobs = -1)\n",
    "\n",
    "print(\"Mean for GNB {:.2f}\".format(scores_gnb.mean()))\n",
    "print(\"Mean for GNB_bag {:.2f}\".format(scores_gnb_bag.mean()))\n",
    "\n",
    "scores_tree = cross_val_score(dtree, X, y, cv=folds, verbose = v, n_jobs = -1)\n",
    "scores_tree_bag = cross_val_score(tree_bag, X, y, cv=folds, verbose = v, n_jobs = -1)\n",
    "\n",
    "print(\"Mean for D-Tree {:.2f}\".format(scores_tree.mean()))\n",
    "print(\"Mean for D_Tree_bag {:.2f}\".format(scores_tree_bag.mean()))"
   ]
  },
  {
   "cell_type": "code",
   "execution_count": null,
   "metadata": {},
   "outputs": [],
   "source": [
    "display_comparison = pd.DataFrame({'Actual': y_test, 'Predicted': y_pred})\n",
    "display_comparison['Actual'].value_counts()"
   ]
  },
  {
   "cell_type": "code",
   "execution_count": null,
   "metadata": {
    "scrolled": false
   },
   "outputs": [],
   "source": [
    "display_comparison['Predicted'].value_counts()"
   ]
  },
  {
   "cell_type": "markdown",
   "metadata": {},
   "source": [
    "## Predicting the score of each match"
   ]
  },
  {
   "cell_type": "code",
   "execution_count": null,
   "metadata": {
    "scrolled": true
   },
   "outputs": [],
   "source": [
    "df_balls.head()"
   ]
  },
  {
   "cell_type": "code",
   "execution_count": null,
   "metadata": {},
   "outputs": [],
   "source": [
    "bat_first_data = df_balls[df_balls['inning'] == 1]\n",
    "bat_scnd_data = df_balls[df_balls['inning'] == 1]\n",
    "df_total_score = bat_first_data.groupby(['match_id','batting_team', 'bowling_team'],as_index=False)['total_runs'].sum()"
   ]
  },
  {
   "cell_type": "code",
   "execution_count": null,
   "metadata": {
    "scrolled": false
   },
   "outputs": [],
   "source": [
    "df_total_score.head()"
   ]
  },
  {
   "cell_type": "code",
   "execution_count": null,
   "metadata": {},
   "outputs": [],
   "source": [
    "df_total_score = df_total_score.merge(df_matches[['id','team1','team2','venue']],left_on='match_id',right_on='id')\n",
    "df_total_score.head()"
   ]
  },
  {
   "cell_type": "code",
   "execution_count": null,
   "metadata": {},
   "outputs": [],
   "source": [
    "#df_total_score = pd.concat([df_total_score,pd.get_dummies(df_total_score[['team1_x','team2_x','venue']])],axis=1)"
   ]
  },
  {
   "cell_type": "code",
   "execution_count": null,
   "metadata": {
    "scrolled": true
   },
   "outputs": [],
   "source": [
    "\n",
    "  \n",
    "# label_encoder object knows how to understand word labels. \n",
    "label_encoder = preprocessing.LabelEncoder() \n",
    "cols = ['batting_team','bowling_team','team1','team2','venue']\n",
    "for c in cols:\n",
    "    df_total_score[c] = label_encoder.fit_transform(df_total_score[c])\n",
    "df_total_score.head()"
   ]
  },
  {
   "cell_type": "code",
   "execution_count": null,
   "metadata": {},
   "outputs": [],
   "source": [
    "df_total_score_norm = df_total_score.drop(['batting_team','bowling_team'], axis=1)"
   ]
  },
  {
   "cell_type": "code",
   "execution_count": null,
   "metadata": {},
   "outputs": [],
   "source": [
    "interval_range = pd.interval_range(start=0, freq=10, end=280)\n",
    "df_total_score['target_range'] = pd.cut(df_total_score['total_runs'], bins=interval_range)\n",
    "df_total_score.head()"
   ]
  },
  {
   "cell_type": "code",
   "execution_count": null,
   "metadata": {
    "scrolled": true
   },
   "outputs": [],
   "source": [
    "df_total_score_norm.head()"
   ]
  },
  {
   "cell_type": "code",
   "execution_count": null,
   "metadata": {},
   "outputs": [],
   "source": [
    "categorical_features = df_total_score_norm.select_dtypes(include=['object']).columns\n",
    "categorical_features"
   ]
  },
  {
   "cell_type": "code",
   "execution_count": null,
   "metadata": {},
   "outputs": [],
   "source": [
    "from sklearn.linear_model import LinearRegression\n",
    "y = df_total_score_norm['total_runs']\n",
    "X = df_total_score_norm.drop('total_runs', axis=1)"
   ]
  },
  {
   "cell_type": "code",
   "execution_count": null,
   "metadata": {
    "scrolled": false
   },
   "outputs": [],
   "source": [
    "\n",
    "from sklearn.model_selection import train_test_split\n",
    "X_train, X_test, y_train, y_test = train_test_split(X, y, test_size=0.20, random_state=0)\n",
    "\n",
    "encoder_list = [ce.backward_difference.BackwardDifferenceEncoder, \n",
    "               ce.basen.BaseNEncoder,\n",
    "               ce.binary.BinaryEncoder,\n",
    "                ce.cat_boost.CatBoostEncoder,\n",
    "                ce.hashing.HashingEncoder,\n",
    "                ce.helmert.HelmertEncoder,\n",
    "                ce.james_stein.JamesSteinEncoder,\n",
    "                ce.one_hot.OneHotEncoder,\n",
    "                ce.leave_one_out.LeaveOneOutEncoder,\n",
    "                ce.m_estimate.MEstimateEncoder,\n",
    "                ce.ordinal.OrdinalEncoder,\n",
    "                ce.polynomial.PolynomialEncoder,\n",
    "                ce.sum_coding.SumEncoder,\n",
    "                ce.target_encoder.TargetEncoder,\n",
    "                ce.woe.WOEEncoder\n",
    "                ]\n",
    "for encoder in encoder_list:\n",
    "    \n",
    "    preprocessor = ColumnTransformer(\n",
    "    transformers=[('cat', categorical_transformer, categorical_features)])\n",
    "    \n",
    "    pipe = Pipeline(steps=[('preprocessor', preprocessor),\n",
    "                      ('classifier', RandomForestClassifier(n_estimators=500))])\n",
    "    \n",
    "    model = pipe.fit(X_train, y_train)\n",
    "    \n",
    "    y_pred = model.predict(X_test)\n",
    "    print(encoder)\n",
    "    print(f1_score(y_test, y_pred, average='macro'))"
   ]
  },
  {
   "cell_type": "code",
   "execution_count": null,
   "metadata": {},
   "outputs": [],
   "source": [
    "from sklearn.model_selection import train_test_split\n",
    "X_train, X_test, y_train, y_test = train_test_split(X, y, test_size=0.20, random_state=0) \n",
    "lr = LinearRegression()\n",
    "y_pred = lr.fit(X_train,y_train).predict(X_test)"
   ]
  },
  {
   "cell_type": "code",
   "execution_count": null,
   "metadata": {},
   "outputs": [],
   "source": [
    "comp = pd.DataFrame({'Actual': y_test, 'Predicted': y_pred})\n",
    "comp.head()"
   ]
  }
 ],
 "metadata": {
  "kernelspec": {
   "display_name": "Python 3",
   "language": "python",
   "name": "python3"
  },
  "language_info": {
   "codemirror_mode": {
    "name": "ipython",
    "version": 3
   },
   "file_extension": ".py",
   "mimetype": "text/x-python",
   "name": "python",
   "nbconvert_exporter": "python",
   "pygments_lexer": "ipython3",
   "version": "3.7.3"
  }
 },
 "nbformat": 4,
 "nbformat_minor": 2
}
